{
 "cells": [
  {
   "cell_type": "markdown",
   "metadata": {},
   "source": [
    "# Introduction to Data Science  - Homework \n",
    "\n",
    "![Algebra](https://repozitorij.algebra.hr/sites/repozitorij.algebra.hr/files/algebra_subbrand_vu_color-black_h_1.png)\n",
    "\n",
    "=========================================================================================================================\n",
    "\n",
    "*Author -  Mislav Spajić, univ. bacc. ing. agr.*\n",
    "\n",
    "*Menthor -  mr. sc. Mirko Talajić* \n",
    "\n",
    "*April 2020.*\n",
    "\n",
    "---------------------------------------------------------------------------------------------------------------"
   ]
  },
  {
   "cell_type": "markdown",
   "metadata": {},
   "source": [
    "## Table of Contents\n",
    "\n",
    "[1. Importing Python Modules and Initial Setup](#import)\n",
    "\n",
    "[2. Frequency Distribution Tables](#freq_tables)\n",
    "\n",
    "\n",
    "   > [2.1. Discrete & Categorical Variables](#disccat)   \n",
    "   > [2.2. Continuous Variables](#cont)  \n",
    "   > [2.3. Contingency Tables](#cross)   \n",
    "   \n",
    "\n",
    "[3. Central Tendency Measures](#central)\n",
    "\n",
    "   > [3.1. Mean](#mean)   \n",
    "   > [3.2. Mode](#mode)    \n",
    "   > [3.3. Median](#median)   \n",
    "   > [3.4. Other Measures](#other)\n",
    "   \n",
    "   \n",
    "\n",
    "[4. Graphical Views](#graph)\n",
    "\n",
    "   > [4.1. Histogram](#hist)   \n",
    "   > [4.2. Bar Plot](#bar)    \n",
    "   > [4.3. Frequency Polygon](#freqpol)   \n",
    "   > [4.4. Scatter Diagram](#scatter)   \n",
    "   > [4.5. Pie Plot](#pie)   \n",
    "   > [4.6. Box & Whisker Plot](#box)   \n",
    "   \n",
    "[5. Exercises](#exercise)\n",
    "\n",
    "   > [5.1. Exercise 1](#ex1)   \n",
    "   > [5.2. Exercise 2](#ex2)    \n",
    "   > [5.3. Exercise 3](#ex3)   \n",
    "   > [5.4. Exercise 4](#ex4)   \n",
    "   > [5.5. Exercise 5](#ex5)   \n",
    "   \n",
    "---------------------------------------------------------------------\n",
    "   \n",
    "   "
   ]
  },
  {
   "cell_type": "markdown",
   "metadata": {},
   "source": [
    "## 1. Importing Python Modules and Initial Setup<a name=\"import\"></a>\n",
    "--------------------------------------------------------"
   ]
  },
  {
   "cell_type": "code",
   "execution_count": 1,
   "metadata": {},
   "outputs": [],
   "source": [
    "#Needed libraries\n",
    "import numpy as np\n",
    "import pandas as pd\n",
    "import matplotlib.pyplot as plt\n",
    "from scipy import stats\n",
    "from sklearn.datasets import load_iris\n",
    "\n",
    "%matplotlib inline \n",
    "#Jupyter inline magic command needed to display plots\n",
    "plt.style.use(\"ggplot\")\n",
    "#Setting different plot style than default"
   ]
  },
  {
   "cell_type": "code",
   "execution_count": 2,
   "metadata": {},
   "outputs": [],
   "source": [
    "# Importing data from lab\n",
    "data=pd.read_excel(\n",
    "    \"https://github.com/MySlav/Introduction_to_DS_Homework/raw/master/Data_for_labs_v1.xlsx\",\n",
    "sheet_name=[\"Loans Number\",\"Loan Amount\",\"Restaurant guests\",\"Exercise 4\",\"Exercise 5\"])\n",
    "#Importing all needed sheets in a dict of dataframes"
   ]
  },
  {
   "cell_type": "markdown",
   "metadata": {},
   "source": [
    "## 2. Frequency Distribution Tables<a name=\"freq_tables\"></a>\n",
    "--------------------------------------------------------"
   ]
  },
  {
   "cell_type": "markdown",
   "metadata": {},
   "source": [
    "### 2.1. Discrete & Categorical Variables<a name=\"disccat\"></a>"
   ]
  },
  {
   "cell_type": "code",
   "execution_count": 3,
   "metadata": {},
   "outputs": [
    {
     "data": {
      "text/html": [
       "<div>\n",
       "<style scoped>\n",
       "    .dataframe tbody tr th:only-of-type {\n",
       "        vertical-align: middle;\n",
       "    }\n",
       "\n",
       "    .dataframe tbody tr th {\n",
       "        vertical-align: top;\n",
       "    }\n",
       "\n",
       "    .dataframe thead th {\n",
       "        text-align: right;\n",
       "    }\n",
       "</style>\n",
       "<table border=\"1\" class=\"dataframe\">\n",
       "  <thead>\n",
       "    <tr style=\"text-align: right;\">\n",
       "      <th></th>\n",
       "      <th>Loans number per day Branch 1</th>\n",
       "    </tr>\n",
       "  </thead>\n",
       "  <tbody>\n",
       "    <tr>\n",
       "      <th>1</th>\n",
       "      <td>34</td>\n",
       "    </tr>\n",
       "    <tr>\n",
       "      <th>2</th>\n",
       "      <td>34</td>\n",
       "    </tr>\n",
       "    <tr>\n",
       "      <th>3</th>\n",
       "      <td>25</td>\n",
       "    </tr>\n",
       "    <tr>\n",
       "      <th>4</th>\n",
       "      <td>24</td>\n",
       "    </tr>\n",
       "    <tr>\n",
       "      <th>5</th>\n",
       "      <td>23</td>\n",
       "    </tr>\n",
       "    <tr>\n",
       "      <th>6</th>\n",
       "      <td>25</td>\n",
       "    </tr>\n",
       "    <tr>\n",
       "      <th>7</th>\n",
       "      <td>29</td>\n",
       "    </tr>\n",
       "    <tr>\n",
       "      <th>8</th>\n",
       "      <td>35</td>\n",
       "    </tr>\n",
       "    <tr>\n",
       "      <th>9</th>\n",
       "      <td>33</td>\n",
       "    </tr>\n",
       "    <tr>\n",
       "      <th>10</th>\n",
       "      <td>24</td>\n",
       "    </tr>\n",
       "  </tbody>\n",
       "</table>\n",
       "</div>"
      ],
      "text/plain": [
       "    Loans number per day Branch 1\n",
       "1                              34\n",
       "2                              34\n",
       "3                              25\n",
       "4                              24\n",
       "5                              23\n",
       "6                              25\n",
       "7                              29\n",
       "8                              35\n",
       "9                              33\n",
       "10                             24"
      ]
     },
     "execution_count": 3,
     "metadata": {},
     "output_type": "execute_result"
    }
   ],
   "source": [
    "#Simple way to get Absolute Frequency of Loans Number\n",
    "DF=data['Loans Number'].apply(pd.value_counts).sort_index()\n",
    "DF"
   ]
  },
  {
   "cell_type": "code",
   "execution_count": 4,
   "metadata": {},
   "outputs": [],
   "source": [
    "#Changing column name to make it clear what it is\n",
    "DF.rename(columns={\"Loans number per day Branch 1\": \"Absolute_Freq.\"},inplace=True)"
   ]
  },
  {
   "cell_type": "code",
   "execution_count": 5,
   "metadata": {},
   "outputs": [
    {
     "data": {
      "text/html": [
       "<div>\n",
       "<style scoped>\n",
       "    .dataframe tbody tr th:only-of-type {\n",
       "        vertical-align: middle;\n",
       "    }\n",
       "\n",
       "    .dataframe tbody tr th {\n",
       "        vertical-align: top;\n",
       "    }\n",
       "\n",
       "    .dataframe thead th {\n",
       "        text-align: right;\n",
       "    }\n",
       "</style>\n",
       "<table border=\"1\" class=\"dataframe\">\n",
       "  <thead>\n",
       "    <tr style=\"text-align: right;\">\n",
       "      <th></th>\n",
       "      <th>Absolute_Freq.</th>\n",
       "      <th>Relative_Prop</th>\n",
       "      <th>Relative%</th>\n",
       "      <th>Cum_Relative_Prop</th>\n",
       "      <th>Cum_Relative%</th>\n",
       "    </tr>\n",
       "  </thead>\n",
       "  <tbody>\n",
       "    <tr>\n",
       "      <th>1</th>\n",
       "      <td>34</td>\n",
       "      <td>0.118881</td>\n",
       "      <td>11.888112</td>\n",
       "      <td>0.118881</td>\n",
       "      <td>11.888112</td>\n",
       "    </tr>\n",
       "    <tr>\n",
       "      <th>2</th>\n",
       "      <td>34</td>\n",
       "      <td>0.118881</td>\n",
       "      <td>11.888112</td>\n",
       "      <td>0.237762</td>\n",
       "      <td>23.776224</td>\n",
       "    </tr>\n",
       "    <tr>\n",
       "      <th>3</th>\n",
       "      <td>25</td>\n",
       "      <td>0.087413</td>\n",
       "      <td>8.741259</td>\n",
       "      <td>0.325175</td>\n",
       "      <td>32.517483</td>\n",
       "    </tr>\n",
       "    <tr>\n",
       "      <th>4</th>\n",
       "      <td>24</td>\n",
       "      <td>0.083916</td>\n",
       "      <td>8.391608</td>\n",
       "      <td>0.409091</td>\n",
       "      <td>40.909091</td>\n",
       "    </tr>\n",
       "    <tr>\n",
       "      <th>5</th>\n",
       "      <td>23</td>\n",
       "      <td>0.080420</td>\n",
       "      <td>8.041958</td>\n",
       "      <td>0.489510</td>\n",
       "      <td>48.951049</td>\n",
       "    </tr>\n",
       "    <tr>\n",
       "      <th>6</th>\n",
       "      <td>25</td>\n",
       "      <td>0.087413</td>\n",
       "      <td>8.741259</td>\n",
       "      <td>0.576923</td>\n",
       "      <td>57.692308</td>\n",
       "    </tr>\n",
       "    <tr>\n",
       "      <th>7</th>\n",
       "      <td>29</td>\n",
       "      <td>0.101399</td>\n",
       "      <td>10.139860</td>\n",
       "      <td>0.678322</td>\n",
       "      <td>67.832168</td>\n",
       "    </tr>\n",
       "    <tr>\n",
       "      <th>8</th>\n",
       "      <td>35</td>\n",
       "      <td>0.122378</td>\n",
       "      <td>12.237762</td>\n",
       "      <td>0.800699</td>\n",
       "      <td>80.069930</td>\n",
       "    </tr>\n",
       "    <tr>\n",
       "      <th>9</th>\n",
       "      <td>33</td>\n",
       "      <td>0.115385</td>\n",
       "      <td>11.538462</td>\n",
       "      <td>0.916084</td>\n",
       "      <td>91.608392</td>\n",
       "    </tr>\n",
       "    <tr>\n",
       "      <th>10</th>\n",
       "      <td>24</td>\n",
       "      <td>0.083916</td>\n",
       "      <td>8.391608</td>\n",
       "      <td>1.000000</td>\n",
       "      <td>100.000000</td>\n",
       "    </tr>\n",
       "  </tbody>\n",
       "</table>\n",
       "</div>"
      ],
      "text/plain": [
       "    Absolute_Freq.  Relative_Prop  Relative%  Cum_Relative_Prop  Cum_Relative%\n",
       "1               34       0.118881  11.888112           0.118881      11.888112\n",
       "2               34       0.118881  11.888112           0.237762      23.776224\n",
       "3               25       0.087413   8.741259           0.325175      32.517483\n",
       "4               24       0.083916   8.391608           0.409091      40.909091\n",
       "5               23       0.080420   8.041958           0.489510      48.951049\n",
       "6               25       0.087413   8.741259           0.576923      57.692308\n",
       "7               29       0.101399  10.139860           0.678322      67.832168\n",
       "8               35       0.122378  12.237762           0.800699      80.069930\n",
       "9               33       0.115385  11.538462           0.916084      91.608392\n",
       "10              24       0.083916   8.391608           1.000000     100.000000"
      ]
     },
     "execution_count": 5,
     "metadata": {},
     "output_type": "execute_result"
    }
   ],
   "source": [
    "#Relative proportion and percentage frequencies and their cumulatives\n",
    "DF[\"Relative_Prop\"]=DF/DF.sum()\n",
    "DF[\"Relative%\"]=DF[\"Relative_Prop\"]*100\n",
    "\n",
    "DF[\"Cum_Relative_Prop\"]=DF[\"Relative_Prop\"].cumsum()\n",
    "DF[\"Cum_Relative%\"]=DF[\"Relative%\"].cumsum()\n",
    "\n",
    "DF"
   ]
  },
  {
   "cell_type": "markdown",
   "metadata": {},
   "source": [
    "### 2.2. Continuous Variables<a name=\"cont\"></a>"
   ]
  },
  {
   "cell_type": "code",
   "execution_count": 6,
   "metadata": {},
   "outputs": [
    {
     "data": {
      "text/html": [
       "<div>\n",
       "<style scoped>\n",
       "    .dataframe tbody tr th:only-of-type {\n",
       "        vertical-align: middle;\n",
       "    }\n",
       "\n",
       "    .dataframe tbody tr th {\n",
       "        vertical-align: top;\n",
       "    }\n",
       "\n",
       "    .dataframe thead th {\n",
       "        text-align: right;\n",
       "    }\n",
       "</style>\n",
       "<table border=\"1\" class=\"dataframe\">\n",
       "  <thead>\n",
       "    <tr style=\"text-align: right;\">\n",
       "      <th></th>\n",
       "      <th>sepal length (cm)</th>\n",
       "      <th>sepal width (cm)</th>\n",
       "      <th>petal length (cm)</th>\n",
       "      <th>petal width (cm)</th>\n",
       "    </tr>\n",
       "  </thead>\n",
       "  <tbody>\n",
       "    <tr>\n",
       "      <th>0</th>\n",
       "      <td>5.1</td>\n",
       "      <td>3.5</td>\n",
       "      <td>1.4</td>\n",
       "      <td>0.2</td>\n",
       "    </tr>\n",
       "    <tr>\n",
       "      <th>1</th>\n",
       "      <td>4.9</td>\n",
       "      <td>3.0</td>\n",
       "      <td>1.4</td>\n",
       "      <td>0.2</td>\n",
       "    </tr>\n",
       "    <tr>\n",
       "      <th>2</th>\n",
       "      <td>4.7</td>\n",
       "      <td>3.2</td>\n",
       "      <td>1.3</td>\n",
       "      <td>0.2</td>\n",
       "    </tr>\n",
       "    <tr>\n",
       "      <th>3</th>\n",
       "      <td>4.6</td>\n",
       "      <td>3.1</td>\n",
       "      <td>1.5</td>\n",
       "      <td>0.2</td>\n",
       "    </tr>\n",
       "    <tr>\n",
       "      <th>4</th>\n",
       "      <td>5.0</td>\n",
       "      <td>3.6</td>\n",
       "      <td>1.4</td>\n",
       "      <td>0.2</td>\n",
       "    </tr>\n",
       "    <tr>\n",
       "      <th>...</th>\n",
       "      <td>...</td>\n",
       "      <td>...</td>\n",
       "      <td>...</td>\n",
       "      <td>...</td>\n",
       "    </tr>\n",
       "    <tr>\n",
       "      <th>145</th>\n",
       "      <td>6.7</td>\n",
       "      <td>3.0</td>\n",
       "      <td>5.2</td>\n",
       "      <td>2.3</td>\n",
       "    </tr>\n",
       "    <tr>\n",
       "      <th>146</th>\n",
       "      <td>6.3</td>\n",
       "      <td>2.5</td>\n",
       "      <td>5.0</td>\n",
       "      <td>1.9</td>\n",
       "    </tr>\n",
       "    <tr>\n",
       "      <th>147</th>\n",
       "      <td>6.5</td>\n",
       "      <td>3.0</td>\n",
       "      <td>5.2</td>\n",
       "      <td>2.0</td>\n",
       "    </tr>\n",
       "    <tr>\n",
       "      <th>148</th>\n",
       "      <td>6.2</td>\n",
       "      <td>3.4</td>\n",
       "      <td>5.4</td>\n",
       "      <td>2.3</td>\n",
       "    </tr>\n",
       "    <tr>\n",
       "      <th>149</th>\n",
       "      <td>5.9</td>\n",
       "      <td>3.0</td>\n",
       "      <td>5.1</td>\n",
       "      <td>1.8</td>\n",
       "    </tr>\n",
       "  </tbody>\n",
       "</table>\n",
       "<p>150 rows × 4 columns</p>\n",
       "</div>"
      ],
      "text/plain": [
       "     sepal length (cm)  sepal width (cm)  petal length (cm)  petal width (cm)\n",
       "0                  5.1               3.5                1.4               0.2\n",
       "1                  4.9               3.0                1.4               0.2\n",
       "2                  4.7               3.2                1.3               0.2\n",
       "3                  4.6               3.1                1.5               0.2\n",
       "4                  5.0               3.6                1.4               0.2\n",
       "..                 ...               ...                ...               ...\n",
       "145                6.7               3.0                5.2               2.3\n",
       "146                6.3               2.5                5.0               1.9\n",
       "147                6.5               3.0                5.2               2.0\n",
       "148                6.2               3.4                5.4               2.3\n",
       "149                5.9               3.0                5.1               1.8\n",
       "\n",
       "[150 rows x 4 columns]"
      ]
     },
     "execution_count": 6,
     "metadata": {},
     "output_type": "execute_result"
    }
   ],
   "source": [
    "#For continuous variables we should create some intervals or classes\n",
    "#I will use famous iris dataset available in sklearn library for demonstration\n",
    "iris = load_iris()\n",
    "#Need to transform this to dataframe\n",
    "iris = pd.DataFrame(iris['data'], columns=iris['feature_names'])\n",
    "\n",
    "\n",
    "#Lets check it out\n",
    "iris"
   ]
  },
  {
   "cell_type": "code",
   "execution_count": 7,
   "metadata": {},
   "outputs": [
    {
     "data": {
      "text/plain": [
       "(4.9, 5.1]      19\n",
       "(5.5, 5.7]      14\n",
       "(5.3, 5.5]      13\n",
       "(6.1, 6.3]      13\n",
       "(5.9, 6.1]      12\n",
       "(6.3, 6.5]      12\n",
       "(4.7, 4.9]      11\n",
       "(6.5, 6.7]      10\n",
       "(5.7, 5.9]      10\n",
       "(6.7, 6.9]       7\n",
       "(4.5, 4.7]       6\n",
       "(5.1, 5.3]       5\n",
       "(4.295, 4.5]     5\n",
       "(7.5, 7.7]       5\n",
       "(7.1, 7.3]       4\n",
       "(6.9, 7.1]       2\n",
       "(7.3, 7.5]       1\n",
       "(7.7, 7.9]       1\n",
       "Name: sepal length (cm), dtype: int64"
      ]
     },
     "execution_count": 7,
     "metadata": {},
     "output_type": "execute_result"
    }
   ],
   "source": [
    "#I will use sepal length for this example\n",
    "dat=iris[\"sepal length (cm)\"]\n",
    "\n",
    "#Number of bins = 1 + 3.3 * log n\n",
    "num=1+3.3*np.log(len(dat))\n",
    "num=int(num+0.5) # Rounding\n",
    "\n",
    "dat.value_counts(bins=num)\n",
    "#Note that I again used value_counts, but i passed calculated number of bins as argument"
   ]
  },
  {
   "cell_type": "markdown",
   "metadata": {},
   "source": [
    "### 2.3. Contingency Tables<a name=\"cross\"></a>"
   ]
  },
  {
   "cell_type": "markdown",
   "metadata": {},
   "source": [
    "Contingency tables or cross tables - sometimes called a two-way frequency table, here data is classified by simultaneous grouping according to two or more variables."
   ]
  },
  {
   "cell_type": "code",
   "execution_count": 8,
   "metadata": {},
   "outputs": [
    {
     "data": {
      "text/html": [
       "<div>\n",
       "<style scoped>\n",
       "    .dataframe tbody tr th:only-of-type {\n",
       "        vertical-align: middle;\n",
       "    }\n",
       "\n",
       "    .dataframe tbody tr th {\n",
       "        vertical-align: top;\n",
       "    }\n",
       "\n",
       "    .dataframe thead th {\n",
       "        text-align: right;\n",
       "    }\n",
       "</style>\n",
       "<table border=\"1\" class=\"dataframe\">\n",
       "  <thead>\n",
       "    <tr style=\"text-align: right;\">\n",
       "      <th></th>\n",
       "      <th>Guest ID</th>\n",
       "      <th>Gender</th>\n",
       "      <th>Number of restaurant visit</th>\n",
       "    </tr>\n",
       "  </thead>\n",
       "  <tbody>\n",
       "    <tr>\n",
       "      <th>0</th>\n",
       "      <td>1</td>\n",
       "      <td>M</td>\n",
       "      <td>2</td>\n",
       "    </tr>\n",
       "    <tr>\n",
       "      <th>1</th>\n",
       "      <td>2</td>\n",
       "      <td>F</td>\n",
       "      <td>1</td>\n",
       "    </tr>\n",
       "    <tr>\n",
       "      <th>2</th>\n",
       "      <td>3</td>\n",
       "      <td>M</td>\n",
       "      <td>2</td>\n",
       "    </tr>\n",
       "    <tr>\n",
       "      <th>3</th>\n",
       "      <td>4</td>\n",
       "      <td>M</td>\n",
       "      <td>1</td>\n",
       "    </tr>\n",
       "    <tr>\n",
       "      <th>4</th>\n",
       "      <td>5</td>\n",
       "      <td>F</td>\n",
       "      <td>1</td>\n",
       "    </tr>\n",
       "    <tr>\n",
       "      <th>...</th>\n",
       "      <td>...</td>\n",
       "      <td>...</td>\n",
       "      <td>...</td>\n",
       "    </tr>\n",
       "    <tr>\n",
       "      <th>95</th>\n",
       "      <td>96</td>\n",
       "      <td>F</td>\n",
       "      <td>1</td>\n",
       "    </tr>\n",
       "    <tr>\n",
       "      <th>96</th>\n",
       "      <td>97</td>\n",
       "      <td>F</td>\n",
       "      <td>2</td>\n",
       "    </tr>\n",
       "    <tr>\n",
       "      <th>97</th>\n",
       "      <td>98</td>\n",
       "      <td>M</td>\n",
       "      <td>2</td>\n",
       "    </tr>\n",
       "    <tr>\n",
       "      <th>98</th>\n",
       "      <td>99</td>\n",
       "      <td>M</td>\n",
       "      <td>3</td>\n",
       "    </tr>\n",
       "    <tr>\n",
       "      <th>99</th>\n",
       "      <td>100</td>\n",
       "      <td>F</td>\n",
       "      <td>1</td>\n",
       "    </tr>\n",
       "  </tbody>\n",
       "</table>\n",
       "<p>100 rows × 3 columns</p>\n",
       "</div>"
      ],
      "text/plain": [
       "    Guest ID Gender  Number of restaurant visit\n",
       "0          1      M                           2\n",
       "1          2      F                           1\n",
       "2          3      M                           2\n",
       "3          4      M                           1\n",
       "4          5      F                           1\n",
       "..       ...    ...                         ...\n",
       "95        96      F                           1\n",
       "96        97      F                           2\n",
       "97        98      M                           2\n",
       "98        99      M                           3\n",
       "99       100      F                           1\n",
       "\n",
       "[100 rows x 3 columns]"
      ]
     },
     "execution_count": 8,
     "metadata": {},
     "output_type": "execute_result"
    }
   ],
   "source": [
    "#I will use the Restaraunt guests data to show how to make cross table\n",
    "data[\"Restaurant guests\"]"
   ]
  },
  {
   "cell_type": "code",
   "execution_count": 9,
   "metadata": {},
   "outputs": [
    {
     "data": {
      "text/html": [
       "<div>\n",
       "<style scoped>\n",
       "    .dataframe tbody tr th:only-of-type {\n",
       "        vertical-align: middle;\n",
       "    }\n",
       "\n",
       "    .dataframe tbody tr th {\n",
       "        vertical-align: top;\n",
       "    }\n",
       "\n",
       "    .dataframe thead th {\n",
       "        text-align: right;\n",
       "    }\n",
       "</style>\n",
       "<table border=\"1\" class=\"dataframe\">\n",
       "  <thead>\n",
       "    <tr style=\"text-align: right;\">\n",
       "      <th>Number of restaurant visit</th>\n",
       "      <th>1</th>\n",
       "      <th>2</th>\n",
       "      <th>3</th>\n",
       "    </tr>\n",
       "    <tr>\n",
       "      <th>Gender</th>\n",
       "      <th></th>\n",
       "      <th></th>\n",
       "      <th></th>\n",
       "    </tr>\n",
       "  </thead>\n",
       "  <tbody>\n",
       "    <tr>\n",
       "      <th>F</th>\n",
       "      <td>16</td>\n",
       "      <td>22</td>\n",
       "      <td>13</td>\n",
       "    </tr>\n",
       "    <tr>\n",
       "      <th>M</th>\n",
       "      <td>20</td>\n",
       "      <td>20</td>\n",
       "      <td>9</td>\n",
       "    </tr>\n",
       "  </tbody>\n",
       "</table>\n",
       "</div>"
      ],
      "text/plain": [
       "Number of restaurant visit   1   2   3\n",
       "Gender                                \n",
       "F                           16  22  13\n",
       "M                           20  20   9"
      ]
     },
     "execution_count": 9,
     "metadata": {},
     "output_type": "execute_result"
    }
   ],
   "source": [
    "pd.crosstab(data[\"Restaurant guests\"][\"Gender\"], data[\"Restaurant guests\"][\"Number of restaurant visit\"])"
   ]
  },
  {
   "cell_type": "markdown",
   "metadata": {},
   "source": [
    "## 3. Central Tendency Measures<a name=\"central\"></a>\n",
    "--------------------------------------------------------"
   ]
  },
  {
   "cell_type": "code",
   "execution_count": 10,
   "metadata": {},
   "outputs": [
    {
     "data": {
      "text/plain": [
       "0      4\n",
       "1      7\n",
       "2      1\n",
       "3      9\n",
       "4      1\n",
       "      ..\n",
       "281    2\n",
       "282    5\n",
       "283    8\n",
       "284    3\n",
       "285    9\n",
       "Name: Loans number per day Branch 1, Length: 286, dtype: int64"
      ]
     },
     "execution_count": 10,
     "metadata": {},
     "output_type": "execute_result"
    }
   ],
   "source": [
    "#Data I will use for analysis\n",
    "data['Loans Number'][\"Loans number per day Branch 1\"]"
   ]
  },
  {
   "cell_type": "code",
   "execution_count": 11,
   "metadata": {},
   "outputs": [],
   "source": [
    "#Let's assign this series we want to analyze to a variable for convenience\n",
    "data_cmt=data['Loans Number'][\"Loans number per day Branch 1\"]"
   ]
  },
  {
   "cell_type": "markdown",
   "metadata": {},
   "source": [
    "### 3.1. Mean<a name=\"mean\"></a>"
   ]
  },
  {
   "cell_type": "code",
   "execution_count": 12,
   "metadata": {},
   "outputs": [
    {
     "data": {
      "text/plain": [
       "5.4475524475524475"
      ]
     },
     "execution_count": 12,
     "metadata": {},
     "output_type": "execute_result"
    }
   ],
   "source": [
    "#Mean of Loans Number per day\n",
    "data_cmt.mean()"
   ]
  },
  {
   "cell_type": "markdown",
   "metadata": {},
   "source": [
    "### 3.2. Mode<a name=\"mode\"></a>"
   ]
  },
  {
   "cell_type": "code",
   "execution_count": 13,
   "metadata": {},
   "outputs": [
    {
     "data": {
      "text/plain": [
       "0    8\n",
       "dtype: int64"
      ]
     },
     "execution_count": 13,
     "metadata": {},
     "output_type": "execute_result"
    }
   ],
   "source": [
    "#Mode of Loans Number per day\n",
    "data_cmt.mode()"
   ]
  },
  {
   "cell_type": "markdown",
   "metadata": {},
   "source": [
    "Note that 0,it is a series index, this is here beacuse pandas mode method on series returns a series"
   ]
  },
  {
   "cell_type": "code",
   "execution_count": 14,
   "metadata": {},
   "outputs": [
    {
     "data": {
      "text/plain": [
       "8"
      ]
     },
     "execution_count": 14,
     "metadata": {},
     "output_type": "execute_result"
    }
   ],
   "source": [
    "#Access number like this\n",
    "data_cmt.mode()[0]"
   ]
  },
  {
   "cell_type": "markdown",
   "metadata": {},
   "source": [
    "Remember, mode is the most occuring value, not the frequency of it. So it's 8, not 35."
   ]
  },
  {
   "cell_type": "markdown",
   "metadata": {},
   "source": [
    "### 3.3. Median<a name=\"median\"></a>"
   ]
  },
  {
   "cell_type": "code",
   "execution_count": 15,
   "metadata": {},
   "outputs": [
    {
     "data": {
      "text/plain": [
       "6.0"
      ]
     },
     "execution_count": 15,
     "metadata": {},
     "output_type": "execute_result"
    }
   ],
   "source": [
    "#Median of Loans Number per day\n",
    "data_cmt.median()\n",
    "#Using a pandas series median method"
   ]
  },
  {
   "cell_type": "code",
   "execution_count": 16,
   "metadata": {},
   "outputs": [
    {
     "data": {
      "text/plain": [
       "6.0"
      ]
     },
     "execution_count": 16,
     "metadata": {},
     "output_type": "execute_result"
    }
   ],
   "source": [
    "#Second solution using numpy median function, getting values from the series as a np array and then calculating median value\n",
    "np.median(data_cmt.values)"
   ]
  },
  {
   "cell_type": "markdown",
   "metadata": {},
   "source": [
    "Note that this isn't the same as median of Loans number per day unique values."
   ]
  },
  {
   "cell_type": "code",
   "execution_count": 17,
   "metadata": {},
   "outputs": [
    {
     "data": {
      "text/plain": [
       "5.5"
      ]
     },
     "execution_count": 17,
     "metadata": {},
     "output_type": "execute_result"
    }
   ],
   "source": [
    "#I used numpy median function since unique returns a numpy array\n",
    "np.median(data_cmt.unique())"
   ]
  },
  {
   "cell_type": "markdown",
   "metadata": {},
   "source": [
    "This is because reccuring values must be taken into account when calculating median. Try to remember that."
   ]
  },
  {
   "cell_type": "markdown",
   "metadata": {},
   "source": [
    "### 3.4. Other Measures<a name=\"other\"></a>"
   ]
  },
  {
   "cell_type": "code",
   "execution_count": 18,
   "metadata": {},
   "outputs": [
    {
     "name": "stdout",
     "output_type": "stream",
     "text": [
      "Geometric mean:\n",
      "4.390131661416687\n",
      "Harmonic mean:\n",
      "3.2249144237868315\n",
      "Trimmed mean:\n",
      "5.4475524475524475\n"
     ]
    }
   ],
   "source": [
    "#Other measures (useful, but used only in specific situations), I used functions from stats module\n",
    "\n",
    "print(\"Geometric mean:\")\n",
    "print(stats.gmean(data_cmt))\n",
    "\n",
    "print(\"Harmonic mean:\")\n",
    "print(stats.hmean(data_cmt))\n",
    "\n",
    "print(\"Trimmed mean:\")\n",
    "print(stats.tmean(data_cmt))"
   ]
  },
  {
   "cell_type": "markdown",
   "metadata": {},
   "source": [
    "## 4. Graphical Views<a name=\"graph\"></a>\n",
    "--------------------------------------------------------"
   ]
  },
  {
   "cell_type": "markdown",
   "metadata": {},
   "source": [
    "### 4.1. Histogram<a name=\"hist\"></a>"
   ]
  },
  {
   "cell_type": "code",
   "execution_count": 19,
   "metadata": {},
   "outputs": [
    {
     "data": {
      "image/png": "[encoded data removed]",
      "text/plain": [
       "<Figure size 432x288 with 1 Axes>"
      ]
     },
     "metadata": {},
     "output_type": "display_data"
    }
   ],
   "source": [
    "#Using matplotlib - shown on iris sepal length variable\n",
    "plt.hist(dat, bins=num,ec=\"black\") # Earlier calculated number of bins\n",
    "plt.xlabel(\"Value in cm\")\n",
    "plt.ylabel(\"Count\")\n",
    "plt.title(\"Iris sepal length\")\n",
    "plt.xlim(min(dat), max(dat))\n",
    "plt.show()"
   ]
  },
  {
   "cell_type": "markdown",
   "metadata": {},
   "source": [
    "### 4.2. Bar Plot<a name=\"bar\"></a>"
   ]
  },
  {
   "cell_type": "code",
   "execution_count": 20,
   "metadata": {},
   "outputs": [
    {
     "data": {
      "image/png": "[encoded data removed]",
      "text/plain": [
       "<Figure size 432x288 with 1 Axes>"
      ]
     },
     "metadata": {},
     "output_type": "display_data"
    }
   ],
   "source": [
    "#Using matplotlib - shown on restaurant guests gender variable\n",
    "dat=data[\"Restaurant guests\"][\"Gender\"].value_counts()\n",
    "\n",
    "plt.barh(y=dat.index,width=dat.values)\n",
    "plt.title(\"Restaurant guests\")\n",
    "plt.xlabel(\"Count\")\n",
    "plt.ylabel(\"Gender\")\n",
    "plt.yticks(dat.index)\n",
    "plt.show()"
   ]
  },
  {
   "cell_type": "markdown",
   "metadata": {},
   "source": [
    "### 4.3. Frequency Polygon<a name=\"freqpol\"></a>"
   ]
  },
  {
   "cell_type": "code",
   "execution_count": 21,
   "metadata": {},
   "outputs": [
    {
     "data": {
      "image/png": "[encoded data removed]",
      "text/plain": [
       "<Figure size 432x288 with 1 Axes>"
      ]
     },
     "metadata": {},
     "output_type": "display_data"
    }
   ],
   "source": [
    "#Using matplotlib - shown on Frequency of Loans Number per day\n",
    "plt.plot(DF[\"Absolute_Freq.\"].index, DF[\"Absolute_Freq.\"].values)\n",
    "plt.scatter(DF[\"Absolute_Freq.\"].index, DF[\"Absolute_Freq.\"].values)\n",
    "plt.xticks(DF[\"Absolute_Freq.\"].index)\n",
    "plt.title('Frequency of Loans Number per day')\n",
    "plt.xlabel(\"Loans per day\")\n",
    "plt.ylabel(\"Frequency\")\n",
    "plt.show()"
   ]
  },
  {
   "cell_type": "markdown",
   "metadata": {},
   "source": [
    "### 4.4. Scatter Diagram<a name=\"scatter\"></a>"
   ]
  },
  {
   "cell_type": "code",
   "execution_count": 22,
   "metadata": {},
   "outputs": [
    {
     "data": {
      "image/png": "[encoded data removed]",
      "text/plain": [
       "<Figure size 432x288 with 1 Axes>"
      ]
     },
     "metadata": {},
     "output_type": "display_data"
    }
   ],
   "source": [
    "#Using matplotlib - shown on iris petal width and length variables\n",
    "plt.scatter(iris[\"sepal width (cm)\"], iris[\"sepal length (cm)\"], label=\"Sepal\",alpha=0.5)\n",
    "plt.xlabel(\"Width (cm)\")\n",
    "plt.ylabel(\"Length (cm)\")\n",
    "plt.legend(loc=\"upper right\")\n",
    "plt.show()"
   ]
  },
  {
   "cell_type": "markdown",
   "metadata": {},
   "source": [
    "### 4.5. Pie Plot<a name=\"pie\"></a>"
   ]
  },
  {
   "cell_type": "code",
   "execution_count": 23,
   "metadata": {},
   "outputs": [
    {
     "data": {
      "image/png": "[encoded data removed]",
      "text/plain": [
       "<Figure size 432x288 with 1 Axes>"
      ]
     },
     "metadata": {},
     "output_type": "display_data"
    }
   ],
   "source": [
    "#Using matplotlib - shown on restaurant guests gender variable\n",
    "dat=data[\"Restaurant guests\"][\"Gender\"].value_counts()\n",
    "\n",
    "slices=dat.values\n",
    "lab=dat.index\n",
    "cols = [\"blue\",\"red\"]\n",
    "\n",
    "plt.pie(slices,labels=lab,colors=cols,startangle=90,shadow= True,explode=(0,0.05),autopct='%1.2f%%')\n",
    "plt.title('Restaurant guests by gender')\n",
    "plt.show()"
   ]
  },
  {
   "cell_type": "markdown",
   "metadata": {},
   "source": [
    "### 4.6. Box & Whisker Plot<a name=\"box\"></a>"
   ]
  },
  {
   "cell_type": "code",
   "execution_count": 24,
   "metadata": {},
   "outputs": [
    {
     "data": {
      "image/png": "[encoded data removed]",
      "text/plain": [
       "<Figure size 432x288 with 1 Axes>"
      ]
     },
     "metadata": {},
     "output_type": "display_data"
    }
   ],
   "source": [
    "#Using matplotlib - shown on iris petal width variable\n",
    "plt.boxplot(iris[\"petal width (cm)\"])\n",
    "plt.title(\"Iris petal width (cm)\")\n",
    "plt.show()"
   ]
  },
  {
   "cell_type": "markdown",
   "metadata": {},
   "source": [
    "Note: Default whiskers are 1.5xIQR.    \n",
    "We can see that iris petal width variable has no outliers"
   ]
  },
  {
   "cell_type": "markdown",
   "metadata": {},
   "source": [
    "## 5. Exercises<a name=\"exercise\"></a>\n",
    "--------------------------------------------------------"
   ]
  },
  {
   "cell_type": "markdown",
   "metadata": {},
   "source": [
    "### 5.1. Exercise 1<a name=\"ex1\"></a>"
   ]
  },
  {
   "cell_type": "markdown",
   "metadata": {},
   "source": [
    "In the given file „Data for Lab 1” in the sheet „Loans number” you have data about the number of given loans per day for one bank branch."
   ]
  },
  {
   "cell_type": "code",
   "execution_count": 25,
   "metadata": {},
   "outputs": [
    {
     "data": {
      "text/html": [
       "<div>\n",
       "<style scoped>\n",
       "    .dataframe tbody tr th:only-of-type {\n",
       "        vertical-align: middle;\n",
       "    }\n",
       "\n",
       "    .dataframe tbody tr th {\n",
       "        vertical-align: top;\n",
       "    }\n",
       "\n",
       "    .dataframe thead th {\n",
       "        text-align: right;\n",
       "    }\n",
       "</style>\n",
       "<table border=\"1\" class=\"dataframe\">\n",
       "  <thead>\n",
       "    <tr style=\"text-align: right;\">\n",
       "      <th></th>\n",
       "      <th>Loans number per day Branch 1</th>\n",
       "    </tr>\n",
       "  </thead>\n",
       "  <tbody>\n",
       "    <tr>\n",
       "      <th>0</th>\n",
       "      <td>4</td>\n",
       "    </tr>\n",
       "    <tr>\n",
       "      <th>1</th>\n",
       "      <td>7</td>\n",
       "    </tr>\n",
       "    <tr>\n",
       "      <th>2</th>\n",
       "      <td>1</td>\n",
       "    </tr>\n",
       "    <tr>\n",
       "      <th>3</th>\n",
       "      <td>9</td>\n",
       "    </tr>\n",
       "    <tr>\n",
       "      <th>4</th>\n",
       "      <td>1</td>\n",
       "    </tr>\n",
       "    <tr>\n",
       "      <th>...</th>\n",
       "      <td>...</td>\n",
       "    </tr>\n",
       "    <tr>\n",
       "      <th>281</th>\n",
       "      <td>2</td>\n",
       "    </tr>\n",
       "    <tr>\n",
       "      <th>282</th>\n",
       "      <td>5</td>\n",
       "    </tr>\n",
       "    <tr>\n",
       "      <th>283</th>\n",
       "      <td>8</td>\n",
       "    </tr>\n",
       "    <tr>\n",
       "      <th>284</th>\n",
       "      <td>3</td>\n",
       "    </tr>\n",
       "    <tr>\n",
       "      <th>285</th>\n",
       "      <td>9</td>\n",
       "    </tr>\n",
       "  </tbody>\n",
       "</table>\n",
       "<p>286 rows × 1 columns</p>\n",
       "</div>"
      ],
      "text/plain": [
       "     Loans number per day Branch 1\n",
       "0                                4\n",
       "1                                7\n",
       "2                                1\n",
       "3                                9\n",
       "4                                1\n",
       "..                             ...\n",
       "281                              2\n",
       "282                              5\n",
       "283                              8\n",
       "284                              3\n",
       "285                              9\n",
       "\n",
       "[286 rows x 1 columns]"
      ]
     },
     "execution_count": 25,
     "metadata": {},
     "output_type": "execute_result"
    }
   ],
   "source": [
    "data[\"Loans Number\"]"
   ]
  },
  {
   "cell_type": "markdown",
   "metadata": {},
   "source": [
    "Using that data draw the table with frequency distribution."
   ]
  },
  {
   "cell_type": "code",
   "execution_count": 26,
   "metadata": {},
   "outputs": [
    {
     "data": {
      "text/html": [
       "<div>\n",
       "<style scoped>\n",
       "    .dataframe tbody tr th:only-of-type {\n",
       "        vertical-align: middle;\n",
       "    }\n",
       "\n",
       "    .dataframe tbody tr th {\n",
       "        vertical-align: top;\n",
       "    }\n",
       "\n",
       "    .dataframe thead th {\n",
       "        text-align: right;\n",
       "    }\n",
       "</style>\n",
       "<table border=\"1\" class=\"dataframe\">\n",
       "  <thead>\n",
       "    <tr style=\"text-align: right;\">\n",
       "      <th></th>\n",
       "      <th>Absolute_Freq.</th>\n",
       "    </tr>\n",
       "  </thead>\n",
       "  <tbody>\n",
       "    <tr>\n",
       "      <th>1</th>\n",
       "      <td>34</td>\n",
       "    </tr>\n",
       "    <tr>\n",
       "      <th>2</th>\n",
       "      <td>34</td>\n",
       "    </tr>\n",
       "    <tr>\n",
       "      <th>3</th>\n",
       "      <td>25</td>\n",
       "    </tr>\n",
       "    <tr>\n",
       "      <th>4</th>\n",
       "      <td>24</td>\n",
       "    </tr>\n",
       "    <tr>\n",
       "      <th>5</th>\n",
       "      <td>23</td>\n",
       "    </tr>\n",
       "    <tr>\n",
       "      <th>6</th>\n",
       "      <td>25</td>\n",
       "    </tr>\n",
       "    <tr>\n",
       "      <th>7</th>\n",
       "      <td>29</td>\n",
       "    </tr>\n",
       "    <tr>\n",
       "      <th>8</th>\n",
       "      <td>35</td>\n",
       "    </tr>\n",
       "    <tr>\n",
       "      <th>9</th>\n",
       "      <td>33</td>\n",
       "    </tr>\n",
       "    <tr>\n",
       "      <th>10</th>\n",
       "      <td>24</td>\n",
       "    </tr>\n",
       "  </tbody>\n",
       "</table>\n",
       "</div>"
      ],
      "text/plain": [
       "    Absolute_Freq.\n",
       "1               34\n",
       "2               34\n",
       "3               25\n",
       "4               24\n",
       "5               23\n",
       "6               25\n",
       "7               29\n",
       "8               35\n",
       "9               33\n",
       "10              24"
      ]
     },
     "execution_count": 26,
     "metadata": {},
     "output_type": "execute_result"
    }
   ],
   "source": [
    "DF=data['Loans Number'].apply(pd.value_counts).sort_index()\n",
    "DF.rename(columns={\"Loans number per day Branch 1\": \"Absolute_Freq.\"},inplace=True)\n",
    "DF"
   ]
  },
  {
   "cell_type": "markdown",
   "metadata": {},
   "source": [
    "After you draw that data calculate relative frequencies as a proportion.\n",
    "\n",
    "Calculate relative frequencies as a percentage.\n",
    "\n",
    "Calculate cumulative sequences for realtive and absolute frequencies.\n"
   ]
  },
  {
   "cell_type": "code",
   "execution_count": 27,
   "metadata": {
    "scrolled": true
   },
   "outputs": [
    {
     "data": {
      "text/html": [
       "<div>\n",
       "<style scoped>\n",
       "    .dataframe tbody tr th:only-of-type {\n",
       "        vertical-align: middle;\n",
       "    }\n",
       "\n",
       "    .dataframe tbody tr th {\n",
       "        vertical-align: top;\n",
       "    }\n",
       "\n",
       "    .dataframe thead th {\n",
       "        text-align: right;\n",
       "    }\n",
       "</style>\n",
       "<table border=\"1\" class=\"dataframe\">\n",
       "  <thead>\n",
       "    <tr style=\"text-align: right;\">\n",
       "      <th></th>\n",
       "      <th>Absolute_Freq.</th>\n",
       "      <th>Relative_Prop</th>\n",
       "      <th>Relative%</th>\n",
       "      <th>Cum_Relative_Prop</th>\n",
       "      <th>Cum_Relative%</th>\n",
       "    </tr>\n",
       "  </thead>\n",
       "  <tbody>\n",
       "    <tr>\n",
       "      <th>1</th>\n",
       "      <td>34</td>\n",
       "      <td>0.118881</td>\n",
       "      <td>11.888112</td>\n",
       "      <td>0.118881</td>\n",
       "      <td>11.888112</td>\n",
       "    </tr>\n",
       "    <tr>\n",
       "      <th>2</th>\n",
       "      <td>34</td>\n",
       "      <td>0.118881</td>\n",
       "      <td>11.888112</td>\n",
       "      <td>0.237762</td>\n",
       "      <td>23.776224</td>\n",
       "    </tr>\n",
       "    <tr>\n",
       "      <th>3</th>\n",
       "      <td>25</td>\n",
       "      <td>0.087413</td>\n",
       "      <td>8.741259</td>\n",
       "      <td>0.325175</td>\n",
       "      <td>32.517483</td>\n",
       "    </tr>\n",
       "    <tr>\n",
       "      <th>4</th>\n",
       "      <td>24</td>\n",
       "      <td>0.083916</td>\n",
       "      <td>8.391608</td>\n",
       "      <td>0.409091</td>\n",
       "      <td>40.909091</td>\n",
       "    </tr>\n",
       "    <tr>\n",
       "      <th>5</th>\n",
       "      <td>23</td>\n",
       "      <td>0.080420</td>\n",
       "      <td>8.041958</td>\n",
       "      <td>0.489510</td>\n",
       "      <td>48.951049</td>\n",
       "    </tr>\n",
       "    <tr>\n",
       "      <th>6</th>\n",
       "      <td>25</td>\n",
       "      <td>0.087413</td>\n",
       "      <td>8.741259</td>\n",
       "      <td>0.576923</td>\n",
       "      <td>57.692308</td>\n",
       "    </tr>\n",
       "    <tr>\n",
       "      <th>7</th>\n",
       "      <td>29</td>\n",
       "      <td>0.101399</td>\n",
       "      <td>10.139860</td>\n",
       "      <td>0.678322</td>\n",
       "      <td>67.832168</td>\n",
       "    </tr>\n",
       "    <tr>\n",
       "      <th>8</th>\n",
       "      <td>35</td>\n",
       "      <td>0.122378</td>\n",
       "      <td>12.237762</td>\n",
       "      <td>0.800699</td>\n",
       "      <td>80.069930</td>\n",
       "    </tr>\n",
       "    <tr>\n",
       "      <th>9</th>\n",
       "      <td>33</td>\n",
       "      <td>0.115385</td>\n",
       "      <td>11.538462</td>\n",
       "      <td>0.916084</td>\n",
       "      <td>91.608392</td>\n",
       "    </tr>\n",
       "    <tr>\n",
       "      <th>10</th>\n",
       "      <td>24</td>\n",
       "      <td>0.083916</td>\n",
       "      <td>8.391608</td>\n",
       "      <td>1.000000</td>\n",
       "      <td>100.000000</td>\n",
       "    </tr>\n",
       "  </tbody>\n",
       "</table>\n",
       "</div>"
      ],
      "text/plain": [
       "    Absolute_Freq.  Relative_Prop  Relative%  Cum_Relative_Prop  Cum_Relative%\n",
       "1               34       0.118881  11.888112           0.118881      11.888112\n",
       "2               34       0.118881  11.888112           0.237762      23.776224\n",
       "3               25       0.087413   8.741259           0.325175      32.517483\n",
       "4               24       0.083916   8.391608           0.409091      40.909091\n",
       "5               23       0.080420   8.041958           0.489510      48.951049\n",
       "6               25       0.087413   8.741259           0.576923      57.692308\n",
       "7               29       0.101399  10.139860           0.678322      67.832168\n",
       "8               35       0.122378  12.237762           0.800699      80.069930\n",
       "9               33       0.115385  11.538462           0.916084      91.608392\n",
       "10              24       0.083916   8.391608           1.000000     100.000000"
      ]
     },
     "execution_count": 27,
     "metadata": {},
     "output_type": "execute_result"
    }
   ],
   "source": [
    "DF[\"Relative_Prop\"]=DF/DF.sum()\n",
    "DF[\"Relative%\"]=DF[\"Relative_Prop\"]*100\n",
    "\n",
    "DF[\"Cum_Relative_Prop\"]=DF[\"Relative_Prop\"].cumsum()\n",
    "DF[\"Cum_Relative%\"]=DF[\"Relative%\"].cumsum()\n",
    "\n",
    "DF"
   ]
  },
  {
   "cell_type": "markdown",
   "metadata": {},
   "source": [
    "Draw histogram of absolute frequencies."
   ]
  },
  {
   "cell_type": "code",
   "execution_count": 28,
   "metadata": {},
   "outputs": [
    {
     "data": {
      "image/png": "[encoded data removed]",
      "text/plain": [
       "<Figure size 432x288 with 1 Axes>"
      ]
     },
     "metadata": {},
     "output_type": "display_data"
    }
   ],
   "source": [
    "plt.hist(data[\"Loans Number\"][\"Loans number per day Branch 1\"],ec='black',bins=10)\n",
    "plt.xlabel(\"Loans number per day\")\n",
    "plt.ylabel(\"Absolute Frequency\")\n",
    "\n",
    "plt.show()"
   ]
  },
  {
   "cell_type": "markdown",
   "metadata": {},
   "source": [
    "Calculate average, median and mod"
   ]
  },
  {
   "cell_type": "code",
   "execution_count": 29,
   "metadata": {},
   "outputs": [
    {
     "name": "stdout",
     "output_type": "stream",
     "text": [
      "Average: 5.4475524475524475\n",
      "Median: 6.0\n",
      "Mode: 8\n"
     ]
    }
   ],
   "source": [
    "data_cmt=data['Loans Number'][\"Loans number per day Branch 1\"]\n",
    "print(\"Average: \" +str(data_cmt.mean()))\n",
    "print(\"Median: \" +str(data_cmt.median()))\n",
    "print(\"Mode: \" +str(data_cmt.mode()[0]))"
   ]
  },
  {
   "cell_type": "markdown",
   "metadata": {},
   "source": [
    "### 5.2. Exercise 2<a name=\"ex2\"></a>"
   ]
  },
  {
   "cell_type": "markdown",
   "metadata": {},
   "source": [
    "In the given file „Data for Lab 1” in the sheet „Loan amount” you have data about the values of given loans for one bank branch."
   ]
  },
  {
   "cell_type": "code",
   "execution_count": 30,
   "metadata": {},
   "outputs": [
    {
     "data": {
      "text/html": [
       "<div>\n",
       "<style scoped>\n",
       "    .dataframe tbody tr th:only-of-type {\n",
       "        vertical-align: middle;\n",
       "    }\n",
       "\n",
       "    .dataframe tbody tr th {\n",
       "        vertical-align: top;\n",
       "    }\n",
       "\n",
       "    .dataframe thead th {\n",
       "        text-align: right;\n",
       "    }\n",
       "</style>\n",
       "<table border=\"1\" class=\"dataframe\">\n",
       "  <thead>\n",
       "    <tr style=\"text-align: right;\">\n",
       "      <th></th>\n",
       "      <th>Loans</th>\n",
       "    </tr>\n",
       "  </thead>\n",
       "  <tbody>\n",
       "    <tr>\n",
       "      <th>0</th>\n",
       "      <td>1000</td>\n",
       "    </tr>\n",
       "    <tr>\n",
       "      <th>1</th>\n",
       "      <td>2000</td>\n",
       "    </tr>\n",
       "    <tr>\n",
       "      <th>2</th>\n",
       "      <td>3000</td>\n",
       "    </tr>\n",
       "    <tr>\n",
       "      <th>3</th>\n",
       "      <td>5000</td>\n",
       "    </tr>\n",
       "    <tr>\n",
       "      <th>4</th>\n",
       "      <td>6000</td>\n",
       "    </tr>\n",
       "    <tr>\n",
       "      <th>...</th>\n",
       "      <td>...</td>\n",
       "    </tr>\n",
       "    <tr>\n",
       "      <th>139</th>\n",
       "      <td>197000</td>\n",
       "    </tr>\n",
       "    <tr>\n",
       "      <th>140</th>\n",
       "      <td>198000</td>\n",
       "    </tr>\n",
       "    <tr>\n",
       "      <th>141</th>\n",
       "      <td>198000</td>\n",
       "    </tr>\n",
       "    <tr>\n",
       "      <th>142</th>\n",
       "      <td>198000</td>\n",
       "    </tr>\n",
       "    <tr>\n",
       "      <th>143</th>\n",
       "      <td>198000</td>\n",
       "    </tr>\n",
       "  </tbody>\n",
       "</table>\n",
       "<p>144 rows × 1 columns</p>\n",
       "</div>"
      ],
      "text/plain": [
       "      Loans\n",
       "0      1000\n",
       "1      2000\n",
       "2      3000\n",
       "3      5000\n",
       "4      6000\n",
       "..      ...\n",
       "139  197000\n",
       "140  198000\n",
       "141  198000\n",
       "142  198000\n",
       "143  198000\n",
       "\n",
       "[144 rows x 1 columns]"
      ]
     },
     "execution_count": 30,
     "metadata": {},
     "output_type": "execute_result"
    }
   ],
   "source": [
    "data[\"Loan Amount\"]"
   ]
  },
  {
   "cell_type": "markdown",
   "metadata": {},
   "source": [
    "Using that data draw the table with frequency distribution based on the width interval range 20000."
   ]
  },
  {
   "cell_type": "code",
   "execution_count": 31,
   "metadata": {},
   "outputs": [
    {
     "data": {
      "text/plain": [
       "(0, 20000]          16\n",
       "(20000, 40000]       7\n",
       "(40000, 60000]      18\n",
       "(60000, 80000]      16\n",
       "(80000, 100000]     12\n",
       "(100000, 120000]    16\n",
       "(120000, 140000]    10\n",
       "(140000, 160000]    14\n",
       "(160000, 180000]    16\n",
       "(180000, 200000]    19\n",
       "Name: Loans, dtype: int64"
      ]
     },
     "execution_count": 31,
     "metadata": {},
     "output_type": "execute_result"
    }
   ],
   "source": [
    "dat=data[\"Loan Amount\"][\"Loans\"]\n",
    "table=pd.cut(dat,np.arange(0, max(dat) + 20000, 20000)).value_counts().sort_index()\n",
    "table"
   ]
  },
  {
   "cell_type": "markdown",
   "metadata": {},
   "source": [
    "After you draw that data calculate relative frequencies as a proportion "
   ]
  },
  {
   "cell_type": "code",
   "execution_count": 32,
   "metadata": {},
   "outputs": [
    {
     "data": {
      "text/html": [
       "<div>\n",
       "<style scoped>\n",
       "    .dataframe tbody tr th:only-of-type {\n",
       "        vertical-align: middle;\n",
       "    }\n",
       "\n",
       "    .dataframe tbody tr th {\n",
       "        vertical-align: top;\n",
       "    }\n",
       "\n",
       "    .dataframe thead th {\n",
       "        text-align: right;\n",
       "    }\n",
       "</style>\n",
       "<table border=\"1\" class=\"dataframe\">\n",
       "  <thead>\n",
       "    <tr style=\"text-align: right;\">\n",
       "      <th></th>\n",
       "      <th>Loans</th>\n",
       "      <th>Relative_Freq</th>\n",
       "    </tr>\n",
       "  </thead>\n",
       "  <tbody>\n",
       "    <tr>\n",
       "      <th>(0, 20000]</th>\n",
       "      <td>16</td>\n",
       "      <td>0.111111</td>\n",
       "    </tr>\n",
       "    <tr>\n",
       "      <th>(20000, 40000]</th>\n",
       "      <td>7</td>\n",
       "      <td>0.048611</td>\n",
       "    </tr>\n",
       "    <tr>\n",
       "      <th>(40000, 60000]</th>\n",
       "      <td>18</td>\n",
       "      <td>0.125000</td>\n",
       "    </tr>\n",
       "    <tr>\n",
       "      <th>(60000, 80000]</th>\n",
       "      <td>16</td>\n",
       "      <td>0.111111</td>\n",
       "    </tr>\n",
       "    <tr>\n",
       "      <th>(80000, 100000]</th>\n",
       "      <td>12</td>\n",
       "      <td>0.083333</td>\n",
       "    </tr>\n",
       "    <tr>\n",
       "      <th>(100000, 120000]</th>\n",
       "      <td>16</td>\n",
       "      <td>0.111111</td>\n",
       "    </tr>\n",
       "    <tr>\n",
       "      <th>(120000, 140000]</th>\n",
       "      <td>10</td>\n",
       "      <td>0.069444</td>\n",
       "    </tr>\n",
       "    <tr>\n",
       "      <th>(140000, 160000]</th>\n",
       "      <td>14</td>\n",
       "      <td>0.097222</td>\n",
       "    </tr>\n",
       "    <tr>\n",
       "      <th>(160000, 180000]</th>\n",
       "      <td>16</td>\n",
       "      <td>0.111111</td>\n",
       "    </tr>\n",
       "    <tr>\n",
       "      <th>(180000, 200000]</th>\n",
       "      <td>19</td>\n",
       "      <td>0.131944</td>\n",
       "    </tr>\n",
       "  </tbody>\n",
       "</table>\n",
       "</div>"
      ],
      "text/plain": [
       "                  Loans  Relative_Freq\n",
       "(0, 20000]           16       0.111111\n",
       "(20000, 40000]        7       0.048611\n",
       "(40000, 60000]       18       0.125000\n",
       "(60000, 80000]       16       0.111111\n",
       "(80000, 100000]      12       0.083333\n",
       "(100000, 120000]     16       0.111111\n",
       "(120000, 140000]     10       0.069444\n",
       "(140000, 160000]     14       0.097222\n",
       "(160000, 180000]     16       0.111111\n",
       "(180000, 200000]     19       0.131944"
      ]
     },
     "execution_count": 32,
     "metadata": {},
     "output_type": "execute_result"
    }
   ],
   "source": [
    "table=table.to_frame()\n",
    "table[\"Relative_Freq\"]=table.values/(table.values.sum())\n",
    "table"
   ]
  },
  {
   "cell_type": "markdown",
   "metadata": {},
   "source": [
    "Calculate relative frequencies as a percentage."
   ]
  },
  {
   "cell_type": "code",
   "execution_count": 33,
   "metadata": {},
   "outputs": [
    {
     "data": {
      "text/html": [
       "<div>\n",
       "<style scoped>\n",
       "    .dataframe tbody tr th:only-of-type {\n",
       "        vertical-align: middle;\n",
       "    }\n",
       "\n",
       "    .dataframe tbody tr th {\n",
       "        vertical-align: top;\n",
       "    }\n",
       "\n",
       "    .dataframe thead th {\n",
       "        text-align: right;\n",
       "    }\n",
       "</style>\n",
       "<table border=\"1\" class=\"dataframe\">\n",
       "  <thead>\n",
       "    <tr style=\"text-align: right;\">\n",
       "      <th></th>\n",
       "      <th>Loans</th>\n",
       "      <th>Relative_Freq</th>\n",
       "      <th>Relative_Freq%</th>\n",
       "    </tr>\n",
       "  </thead>\n",
       "  <tbody>\n",
       "    <tr>\n",
       "      <th>(0, 20000]</th>\n",
       "      <td>16</td>\n",
       "      <td>0.111111</td>\n",
       "      <td>11.111111</td>\n",
       "    </tr>\n",
       "    <tr>\n",
       "      <th>(20000, 40000]</th>\n",
       "      <td>7</td>\n",
       "      <td>0.048611</td>\n",
       "      <td>4.861111</td>\n",
       "    </tr>\n",
       "    <tr>\n",
       "      <th>(40000, 60000]</th>\n",
       "      <td>18</td>\n",
       "      <td>0.125000</td>\n",
       "      <td>12.500000</td>\n",
       "    </tr>\n",
       "    <tr>\n",
       "      <th>(60000, 80000]</th>\n",
       "      <td>16</td>\n",
       "      <td>0.111111</td>\n",
       "      <td>11.111111</td>\n",
       "    </tr>\n",
       "    <tr>\n",
       "      <th>(80000, 100000]</th>\n",
       "      <td>12</td>\n",
       "      <td>0.083333</td>\n",
       "      <td>8.333333</td>\n",
       "    </tr>\n",
       "    <tr>\n",
       "      <th>(100000, 120000]</th>\n",
       "      <td>16</td>\n",
       "      <td>0.111111</td>\n",
       "      <td>11.111111</td>\n",
       "    </tr>\n",
       "    <tr>\n",
       "      <th>(120000, 140000]</th>\n",
       "      <td>10</td>\n",
       "      <td>0.069444</td>\n",
       "      <td>6.944444</td>\n",
       "    </tr>\n",
       "    <tr>\n",
       "      <th>(140000, 160000]</th>\n",
       "      <td>14</td>\n",
       "      <td>0.097222</td>\n",
       "      <td>9.722222</td>\n",
       "    </tr>\n",
       "    <tr>\n",
       "      <th>(160000, 180000]</th>\n",
       "      <td>16</td>\n",
       "      <td>0.111111</td>\n",
       "      <td>11.111111</td>\n",
       "    </tr>\n",
       "    <tr>\n",
       "      <th>(180000, 200000]</th>\n",
       "      <td>19</td>\n",
       "      <td>0.131944</td>\n",
       "      <td>13.194444</td>\n",
       "    </tr>\n",
       "  </tbody>\n",
       "</table>\n",
       "</div>"
      ],
      "text/plain": [
       "                  Loans  Relative_Freq  Relative_Freq%\n",
       "(0, 20000]           16       0.111111       11.111111\n",
       "(20000, 40000]        7       0.048611        4.861111\n",
       "(40000, 60000]       18       0.125000       12.500000\n",
       "(60000, 80000]       16       0.111111       11.111111\n",
       "(80000, 100000]      12       0.083333        8.333333\n",
       "(100000, 120000]     16       0.111111       11.111111\n",
       "(120000, 140000]     10       0.069444        6.944444\n",
       "(140000, 160000]     14       0.097222        9.722222\n",
       "(160000, 180000]     16       0.111111       11.111111\n",
       "(180000, 200000]     19       0.131944       13.194444"
      ]
     },
     "execution_count": 33,
     "metadata": {},
     "output_type": "execute_result"
    }
   ],
   "source": [
    "table[\"Relative_Freq%\"]=table[\"Relative_Freq\"]*100\n",
    "table"
   ]
  },
  {
   "cell_type": "markdown",
   "metadata": {},
   "source": [
    "Calculate cumulative sequences for relative and absolute frequencies"
   ]
  },
  {
   "cell_type": "code",
   "execution_count": 34,
   "metadata": {},
   "outputs": [
    {
     "data": {
      "text/html": [
       "<div>\n",
       "<style scoped>\n",
       "    .dataframe tbody tr th:only-of-type {\n",
       "        vertical-align: middle;\n",
       "    }\n",
       "\n",
       "    .dataframe tbody tr th {\n",
       "        vertical-align: top;\n",
       "    }\n",
       "\n",
       "    .dataframe thead th {\n",
       "        text-align: right;\n",
       "    }\n",
       "</style>\n",
       "<table border=\"1\" class=\"dataframe\">\n",
       "  <thead>\n",
       "    <tr style=\"text-align: right;\">\n",
       "      <th></th>\n",
       "      <th>Loans</th>\n",
       "      <th>Relative_Freq</th>\n",
       "      <th>Relative_Freq%</th>\n",
       "      <th>Cum_Absolute</th>\n",
       "      <th>Cum_Relative_Freq</th>\n",
       "      <th>Cum_Relative_Freq%</th>\n",
       "    </tr>\n",
       "  </thead>\n",
       "  <tbody>\n",
       "    <tr>\n",
       "      <th>(0, 20000]</th>\n",
       "      <td>16</td>\n",
       "      <td>0.111111</td>\n",
       "      <td>11.111111</td>\n",
       "      <td>16</td>\n",
       "      <td>0.111111</td>\n",
       "      <td>11.111111</td>\n",
       "    </tr>\n",
       "    <tr>\n",
       "      <th>(20000, 40000]</th>\n",
       "      <td>7</td>\n",
       "      <td>0.048611</td>\n",
       "      <td>4.861111</td>\n",
       "      <td>23</td>\n",
       "      <td>0.159722</td>\n",
       "      <td>15.972222</td>\n",
       "    </tr>\n",
       "    <tr>\n",
       "      <th>(40000, 60000]</th>\n",
       "      <td>18</td>\n",
       "      <td>0.125000</td>\n",
       "      <td>12.500000</td>\n",
       "      <td>41</td>\n",
       "      <td>0.284722</td>\n",
       "      <td>28.472222</td>\n",
       "    </tr>\n",
       "    <tr>\n",
       "      <th>(60000, 80000]</th>\n",
       "      <td>16</td>\n",
       "      <td>0.111111</td>\n",
       "      <td>11.111111</td>\n",
       "      <td>57</td>\n",
       "      <td>0.395833</td>\n",
       "      <td>39.583333</td>\n",
       "    </tr>\n",
       "    <tr>\n",
       "      <th>(80000, 100000]</th>\n",
       "      <td>12</td>\n",
       "      <td>0.083333</td>\n",
       "      <td>8.333333</td>\n",
       "      <td>69</td>\n",
       "      <td>0.479167</td>\n",
       "      <td>47.916667</td>\n",
       "    </tr>\n",
       "    <tr>\n",
       "      <th>(100000, 120000]</th>\n",
       "      <td>16</td>\n",
       "      <td>0.111111</td>\n",
       "      <td>11.111111</td>\n",
       "      <td>85</td>\n",
       "      <td>0.590278</td>\n",
       "      <td>59.027778</td>\n",
       "    </tr>\n",
       "    <tr>\n",
       "      <th>(120000, 140000]</th>\n",
       "      <td>10</td>\n",
       "      <td>0.069444</td>\n",
       "      <td>6.944444</td>\n",
       "      <td>95</td>\n",
       "      <td>0.659722</td>\n",
       "      <td>65.972222</td>\n",
       "    </tr>\n",
       "    <tr>\n",
       "      <th>(140000, 160000]</th>\n",
       "      <td>14</td>\n",
       "      <td>0.097222</td>\n",
       "      <td>9.722222</td>\n",
       "      <td>109</td>\n",
       "      <td>0.756944</td>\n",
       "      <td>75.694444</td>\n",
       "    </tr>\n",
       "    <tr>\n",
       "      <th>(160000, 180000]</th>\n",
       "      <td>16</td>\n",
       "      <td>0.111111</td>\n",
       "      <td>11.111111</td>\n",
       "      <td>125</td>\n",
       "      <td>0.868056</td>\n",
       "      <td>86.805556</td>\n",
       "    </tr>\n",
       "    <tr>\n",
       "      <th>(180000, 200000]</th>\n",
       "      <td>19</td>\n",
       "      <td>0.131944</td>\n",
       "      <td>13.194444</td>\n",
       "      <td>144</td>\n",
       "      <td>1.000000</td>\n",
       "      <td>100.000000</td>\n",
       "    </tr>\n",
       "  </tbody>\n",
       "</table>\n",
       "</div>"
      ],
      "text/plain": [
       "                  Loans  Relative_Freq  Relative_Freq%  Cum_Absolute  \\\n",
       "(0, 20000]           16       0.111111       11.111111            16   \n",
       "(20000, 40000]        7       0.048611        4.861111            23   \n",
       "(40000, 60000]       18       0.125000       12.500000            41   \n",
       "(60000, 80000]       16       0.111111       11.111111            57   \n",
       "(80000, 100000]      12       0.083333        8.333333            69   \n",
       "(100000, 120000]     16       0.111111       11.111111            85   \n",
       "(120000, 140000]     10       0.069444        6.944444            95   \n",
       "(140000, 160000]     14       0.097222        9.722222           109   \n",
       "(160000, 180000]     16       0.111111       11.111111           125   \n",
       "(180000, 200000]     19       0.131944       13.194444           144   \n",
       "\n",
       "                  Cum_Relative_Freq  Cum_Relative_Freq%  \n",
       "(0, 20000]                 0.111111           11.111111  \n",
       "(20000, 40000]             0.159722           15.972222  \n",
       "(40000, 60000]             0.284722           28.472222  \n",
       "(60000, 80000]             0.395833           39.583333  \n",
       "(80000, 100000]            0.479167           47.916667  \n",
       "(100000, 120000]           0.590278           59.027778  \n",
       "(120000, 140000]           0.659722           65.972222  \n",
       "(140000, 160000]           0.756944           75.694444  \n",
       "(160000, 180000]           0.868056           86.805556  \n",
       "(180000, 200000]           1.000000          100.000000  "
      ]
     },
     "execution_count": 34,
     "metadata": {},
     "output_type": "execute_result"
    }
   ],
   "source": [
    "table[\"Cum_Absolute\"]=table[\"Loans\"].cumsum()\n",
    "table[\"Cum_Relative_Freq\"]=table[\"Relative_Freq\"].cumsum()\n",
    "table[\"Cum_Relative_Freq%\"]=table[\"Relative_Freq%\"].cumsum()\n",
    "table"
   ]
  },
  {
   "cell_type": "markdown",
   "metadata": {},
   "source": [
    "Draw appropriate graph for absolute frequencies"
   ]
  },
  {
   "cell_type": "code",
   "execution_count": 35,
   "metadata": {},
   "outputs": [
    {
     "data": {
      "image/png": "[encoded data removed]",
      "text/plain": [
       "<Figure size 432x288 with 1 Axes>"
      ]
     },
     "metadata": {},
     "output_type": "display_data"
    }
   ],
   "source": [
    "pd.cut(dat,np.arange(0, max(dat) + 20000, 20000)).value_counts().sort_index().plot(kind='bar')\n",
    "plt.xlabel(\"Bins\")\n",
    "plt.ylabel(\"Absolute frequency\")\n",
    "plt.show()"
   ]
  },
  {
   "cell_type": "markdown",
   "metadata": {},
   "source": [
    "### 5.3. Exercise 3<a name=\"ex3\"></a>"
   ]
  },
  {
   "cell_type": "markdown",
   "metadata": {},
   "source": [
    "In the given file „Data for Lab 1” in the sheet „Restaurant guests” you have data about restaurant quest , the guest gender and number of restaurant visit for every quest."
   ]
  },
  {
   "cell_type": "code",
   "execution_count": 36,
   "metadata": {},
   "outputs": [
    {
     "data": {
      "text/html": [
       "<div>\n",
       "<style scoped>\n",
       "    .dataframe tbody tr th:only-of-type {\n",
       "        vertical-align: middle;\n",
       "    }\n",
       "\n",
       "    .dataframe tbody tr th {\n",
       "        vertical-align: top;\n",
       "    }\n",
       "\n",
       "    .dataframe thead th {\n",
       "        text-align: right;\n",
       "    }\n",
       "</style>\n",
       "<table border=\"1\" class=\"dataframe\">\n",
       "  <thead>\n",
       "    <tr style=\"text-align: right;\">\n",
       "      <th></th>\n",
       "      <th>Guest ID</th>\n",
       "      <th>Gender</th>\n",
       "      <th>Number of restaurant visit</th>\n",
       "    </tr>\n",
       "  </thead>\n",
       "  <tbody>\n",
       "    <tr>\n",
       "      <th>0</th>\n",
       "      <td>1</td>\n",
       "      <td>M</td>\n",
       "      <td>2</td>\n",
       "    </tr>\n",
       "    <tr>\n",
       "      <th>1</th>\n",
       "      <td>2</td>\n",
       "      <td>F</td>\n",
       "      <td>1</td>\n",
       "    </tr>\n",
       "    <tr>\n",
       "      <th>2</th>\n",
       "      <td>3</td>\n",
       "      <td>M</td>\n",
       "      <td>2</td>\n",
       "    </tr>\n",
       "    <tr>\n",
       "      <th>3</th>\n",
       "      <td>4</td>\n",
       "      <td>M</td>\n",
       "      <td>1</td>\n",
       "    </tr>\n",
       "    <tr>\n",
       "      <th>4</th>\n",
       "      <td>5</td>\n",
       "      <td>F</td>\n",
       "      <td>1</td>\n",
       "    </tr>\n",
       "    <tr>\n",
       "      <th>...</th>\n",
       "      <td>...</td>\n",
       "      <td>...</td>\n",
       "      <td>...</td>\n",
       "    </tr>\n",
       "    <tr>\n",
       "      <th>95</th>\n",
       "      <td>96</td>\n",
       "      <td>F</td>\n",
       "      <td>1</td>\n",
       "    </tr>\n",
       "    <tr>\n",
       "      <th>96</th>\n",
       "      <td>97</td>\n",
       "      <td>F</td>\n",
       "      <td>2</td>\n",
       "    </tr>\n",
       "    <tr>\n",
       "      <th>97</th>\n",
       "      <td>98</td>\n",
       "      <td>M</td>\n",
       "      <td>2</td>\n",
       "    </tr>\n",
       "    <tr>\n",
       "      <th>98</th>\n",
       "      <td>99</td>\n",
       "      <td>M</td>\n",
       "      <td>3</td>\n",
       "    </tr>\n",
       "    <tr>\n",
       "      <th>99</th>\n",
       "      <td>100</td>\n",
       "      <td>F</td>\n",
       "      <td>1</td>\n",
       "    </tr>\n",
       "  </tbody>\n",
       "</table>\n",
       "<p>100 rows × 3 columns</p>\n",
       "</div>"
      ],
      "text/plain": [
       "    Guest ID Gender  Number of restaurant visit\n",
       "0          1      M                           2\n",
       "1          2      F                           1\n",
       "2          3      M                           2\n",
       "3          4      M                           1\n",
       "4          5      F                           1\n",
       "..       ...    ...                         ...\n",
       "95        96      F                           1\n",
       "96        97      F                           2\n",
       "97        98      M                           2\n",
       "98        99      M                           3\n",
       "99       100      F                           1\n",
       "\n",
       "[100 rows x 3 columns]"
      ]
     },
     "execution_count": 36,
     "metadata": {},
     "output_type": "execute_result"
    }
   ],
   "source": [
    "data[\"Restaurant guests\"]"
   ]
  },
  {
   "cell_type": "markdown",
   "metadata": {},
   "source": [
    "Using that data draw the cross table with grouping data by gender and number of restaurant visit ."
   ]
  },
  {
   "cell_type": "code",
   "execution_count": 37,
   "metadata": {},
   "outputs": [
    {
     "data": {
      "text/html": [
       "<div>\n",
       "<style scoped>\n",
       "    .dataframe tbody tr th:only-of-type {\n",
       "        vertical-align: middle;\n",
       "    }\n",
       "\n",
       "    .dataframe tbody tr th {\n",
       "        vertical-align: top;\n",
       "    }\n",
       "\n",
       "    .dataframe thead th {\n",
       "        text-align: right;\n",
       "    }\n",
       "</style>\n",
       "<table border=\"1\" class=\"dataframe\">\n",
       "  <thead>\n",
       "    <tr style=\"text-align: right;\">\n",
       "      <th>Number of restaurant visit</th>\n",
       "      <th>1</th>\n",
       "      <th>2</th>\n",
       "      <th>3</th>\n",
       "    </tr>\n",
       "    <tr>\n",
       "      <th>Gender</th>\n",
       "      <th></th>\n",
       "      <th></th>\n",
       "      <th></th>\n",
       "    </tr>\n",
       "  </thead>\n",
       "  <tbody>\n",
       "    <tr>\n",
       "      <th>F</th>\n",
       "      <td>16</td>\n",
       "      <td>22</td>\n",
       "      <td>13</td>\n",
       "    </tr>\n",
       "    <tr>\n",
       "      <th>M</th>\n",
       "      <td>20</td>\n",
       "      <td>20</td>\n",
       "      <td>9</td>\n",
       "    </tr>\n",
       "  </tbody>\n",
       "</table>\n",
       "</div>"
      ],
      "text/plain": [
       "Number of restaurant visit   1   2   3\n",
       "Gender                                \n",
       "F                           16  22  13\n",
       "M                           20  20   9"
      ]
     },
     "execution_count": 37,
     "metadata": {},
     "output_type": "execute_result"
    }
   ],
   "source": [
    "table=pd.crosstab(data[\"Restaurant guests\"][\"Gender\"], data[\"Restaurant guests\"][\"Number of restaurant visit\"])\n",
    "table"
   ]
  },
  {
   "cell_type": "markdown",
   "metadata": {},
   "source": [
    "Draw cross table with relative frequencies  (basis total sum in the row)."
   ]
  },
  {
   "cell_type": "code",
   "execution_count": 38,
   "metadata": {},
   "outputs": [
    {
     "data": {
      "text/html": [
       "<div>\n",
       "<style scoped>\n",
       "    .dataframe tbody tr th:only-of-type {\n",
       "        vertical-align: middle;\n",
       "    }\n",
       "\n",
       "    .dataframe tbody tr th {\n",
       "        vertical-align: top;\n",
       "    }\n",
       "\n",
       "    .dataframe thead th {\n",
       "        text-align: right;\n",
       "    }\n",
       "</style>\n",
       "<table border=\"1\" class=\"dataframe\">\n",
       "  <thead>\n",
       "    <tr style=\"text-align: right;\">\n",
       "      <th>Number of restaurant visit</th>\n",
       "      <th>1</th>\n",
       "      <th>2</th>\n",
       "      <th>3</th>\n",
       "    </tr>\n",
       "    <tr>\n",
       "      <th>Gender</th>\n",
       "      <th></th>\n",
       "      <th></th>\n",
       "      <th></th>\n",
       "    </tr>\n",
       "  </thead>\n",
       "  <tbody>\n",
       "    <tr>\n",
       "      <th>F</th>\n",
       "      <td>0.313725</td>\n",
       "      <td>0.431373</td>\n",
       "      <td>0.254902</td>\n",
       "    </tr>\n",
       "    <tr>\n",
       "      <th>M</th>\n",
       "      <td>0.408163</td>\n",
       "      <td>0.408163</td>\n",
       "      <td>0.183673</td>\n",
       "    </tr>\n",
       "  </tbody>\n",
       "</table>\n",
       "</div>"
      ],
      "text/plain": [
       "Number of restaurant visit         1         2         3\n",
       "Gender                                                  \n",
       "F                           0.313725  0.431373  0.254902\n",
       "M                           0.408163  0.408163  0.183673"
      ]
     },
     "execution_count": 38,
     "metadata": {},
     "output_type": "execute_result"
    }
   ],
   "source": [
    "table.apply(lambda r: r/r.sum(), axis=1)"
   ]
  },
  {
   "cell_type": "markdown",
   "metadata": {},
   "source": [
    "Draw cross table with relative frequencies  (basis total sum in the column)"
   ]
  },
  {
   "cell_type": "code",
   "execution_count": 39,
   "metadata": {},
   "outputs": [
    {
     "data": {
      "text/html": [
       "<div>\n",
       "<style scoped>\n",
       "    .dataframe tbody tr th:only-of-type {\n",
       "        vertical-align: middle;\n",
       "    }\n",
       "\n",
       "    .dataframe tbody tr th {\n",
       "        vertical-align: top;\n",
       "    }\n",
       "\n",
       "    .dataframe thead th {\n",
       "        text-align: right;\n",
       "    }\n",
       "</style>\n",
       "<table border=\"1\" class=\"dataframe\">\n",
       "  <thead>\n",
       "    <tr style=\"text-align: right;\">\n",
       "      <th>Number of restaurant visit</th>\n",
       "      <th>1</th>\n",
       "      <th>2</th>\n",
       "      <th>3</th>\n",
       "    </tr>\n",
       "    <tr>\n",
       "      <th>Gender</th>\n",
       "      <th></th>\n",
       "      <th></th>\n",
       "      <th></th>\n",
       "    </tr>\n",
       "  </thead>\n",
       "  <tbody>\n",
       "    <tr>\n",
       "      <th>F</th>\n",
       "      <td>0.444444</td>\n",
       "      <td>0.52381</td>\n",
       "      <td>0.590909</td>\n",
       "    </tr>\n",
       "    <tr>\n",
       "      <th>M</th>\n",
       "      <td>0.555556</td>\n",
       "      <td>0.47619</td>\n",
       "      <td>0.409091</td>\n",
       "    </tr>\n",
       "  </tbody>\n",
       "</table>\n",
       "</div>"
      ],
      "text/plain": [
       "Number of restaurant visit         1        2         3\n",
       "Gender                                                 \n",
       "F                           0.444444  0.52381  0.590909\n",
       "M                           0.555556  0.47619  0.409091"
      ]
     },
     "execution_count": 39,
     "metadata": {},
     "output_type": "execute_result"
    }
   ],
   "source": [
    "table.apply(lambda c: c/c.sum(), axis=0)"
   ]
  },
  {
   "cell_type": "markdown",
   "metadata": {},
   "source": [
    "### 5.4. Exercise 4<a name=\"ex4\"></a>"
   ]
  },
  {
   "cell_type": "markdown",
   "metadata": {},
   "source": [
    "In the given file „Data for Lab 1” in the sheet „Exercise 4” you have data about approved loans. Below is the table from the sheet."
   ]
  },
  {
   "cell_type": "code",
   "execution_count": 40,
   "metadata": {},
   "outputs": [
    {
     "data": {
      "text/html": [
       "<div>\n",
       "<style scoped>\n",
       "    .dataframe tbody tr th:only-of-type {\n",
       "        vertical-align: middle;\n",
       "    }\n",
       "\n",
       "    .dataframe tbody tr th {\n",
       "        vertical-align: top;\n",
       "    }\n",
       "\n",
       "    .dataframe thead th {\n",
       "        text-align: right;\n",
       "    }\n",
       "</style>\n",
       "<table border=\"1\" class=\"dataframe\">\n",
       "  <thead>\n",
       "    <tr style=\"text-align: right;\">\n",
       "      <th></th>\n",
       "      <th>Loan amount in 000 HRK</th>\n",
       "      <th>Number of approved loans</th>\n",
       "      <th>Relative frequency - percentage</th>\n",
       "      <th>Cumulative of absolute frequencies</th>\n",
       "      <th>Cumulative of relative frequencies percentage</th>\n",
       "    </tr>\n",
       "  </thead>\n",
       "  <tbody>\n",
       "    <tr>\n",
       "      <th>0</th>\n",
       "      <td>0 - 20</td>\n",
       "      <td>2</td>\n",
       "      <td>1.69</td>\n",
       "      <td>2.0</td>\n",
       "      <td>1.69</td>\n",
       "    </tr>\n",
       "    <tr>\n",
       "      <th>1</th>\n",
       "      <td>20 - 40</td>\n",
       "      <td>8</td>\n",
       "      <td>6.78</td>\n",
       "      <td>NaN</td>\n",
       "      <td>NaN</td>\n",
       "    </tr>\n",
       "    <tr>\n",
       "      <th>2</th>\n",
       "      <td>40 - 60</td>\n",
       "      <td>16</td>\n",
       "      <td>13.55</td>\n",
       "      <td>NaN</td>\n",
       "      <td>NaN</td>\n",
       "    </tr>\n",
       "    <tr>\n",
       "      <th>3</th>\n",
       "      <td>60 - 80</td>\n",
       "      <td>21</td>\n",
       "      <td>NaN</td>\n",
       "      <td>NaN</td>\n",
       "      <td>NaN</td>\n",
       "    </tr>\n",
       "    <tr>\n",
       "      <th>4</th>\n",
       "      <td>80 - 100</td>\n",
       "      <td>18</td>\n",
       "      <td>NaN</td>\n",
       "      <td>NaN</td>\n",
       "      <td>NaN</td>\n",
       "    </tr>\n",
       "    <tr>\n",
       "      <th>5</th>\n",
       "      <td>100 - 120</td>\n",
       "      <td>14</td>\n",
       "      <td>NaN</td>\n",
       "      <td>NaN</td>\n",
       "      <td>NaN</td>\n",
       "    </tr>\n",
       "    <tr>\n",
       "      <th>6</th>\n",
       "      <td>120 - 140</td>\n",
       "      <td>12</td>\n",
       "      <td>NaN</td>\n",
       "      <td>NaN</td>\n",
       "      <td>NaN</td>\n",
       "    </tr>\n",
       "    <tr>\n",
       "      <th>7</th>\n",
       "      <td>140 - 160</td>\n",
       "      <td>10</td>\n",
       "      <td>NaN</td>\n",
       "      <td>NaN</td>\n",
       "      <td>NaN</td>\n",
       "    </tr>\n",
       "    <tr>\n",
       "      <th>8</th>\n",
       "      <td>160 - 180</td>\n",
       "      <td>9</td>\n",
       "      <td>7.62</td>\n",
       "      <td>NaN</td>\n",
       "      <td>NaN</td>\n",
       "    </tr>\n",
       "    <tr>\n",
       "      <th>9</th>\n",
       "      <td>180 - 200</td>\n",
       "      <td>8</td>\n",
       "      <td>6.78</td>\n",
       "      <td>NaN</td>\n",
       "      <td>NaN</td>\n",
       "    </tr>\n",
       "    <tr>\n",
       "      <th>10</th>\n",
       "      <td>Total</td>\n",
       "      <td>118</td>\n",
       "      <td>NaN</td>\n",
       "      <td>NaN</td>\n",
       "      <td>NaN</td>\n",
       "    </tr>\n",
       "  </tbody>\n",
       "</table>\n",
       "</div>"
      ],
      "text/plain": [
       "   Loan amount in 000 HRK  Number of approved loans  \\\n",
       "0                  0 - 20                         2   \n",
       "1                 20 - 40                         8   \n",
       "2                 40 - 60                        16   \n",
       "3                 60 - 80                        21   \n",
       "4                80 - 100                        18   \n",
       "5               100 - 120                        14   \n",
       "6               120 - 140                        12   \n",
       "7               140 - 160                        10   \n",
       "8               160 - 180                         9   \n",
       "9               180 - 200                         8   \n",
       "10                  Total                       118   \n",
       "\n",
       "    Relative frequency - percentage  Cumulative of absolute frequencies  \\\n",
       "0                              1.69                                 2.0   \n",
       "1                              6.78                                 NaN   \n",
       "2                             13.55                                 NaN   \n",
       "3                               NaN                                 NaN   \n",
       "4                               NaN                                 NaN   \n",
       "5                               NaN                                 NaN   \n",
       "6                               NaN                                 NaN   \n",
       "7                               NaN                                 NaN   \n",
       "8                              7.62                                 NaN   \n",
       "9                              6.78                                 NaN   \n",
       "10                              NaN                                 NaN   \n",
       "\n",
       "    Cumulative of relative frequencies percentage  \n",
       "0                                            1.69  \n",
       "1                                             NaN  \n",
       "2                                             NaN  \n",
       "3                                             NaN  \n",
       "4                                             NaN  \n",
       "5                                             NaN  \n",
       "6                                             NaN  \n",
       "7                                             NaN  \n",
       "8                                             NaN  \n",
       "9                                             NaN  \n",
       "10                                            NaN  "
      ]
     },
     "execution_count": 40,
     "metadata": {},
     "output_type": "execute_result"
    }
   ],
   "source": [
    "table=data[\"Exercise 4\"]\n",
    "table"
   ]
  },
  {
   "cell_type": "markdown",
   "metadata": {},
   "source": [
    "Fill in the missing fields in the table."
   ]
  },
  {
   "cell_type": "code",
   "execution_count": 41,
   "metadata": {},
   "outputs": [
    {
     "data": {
      "text/html": [
       "<div>\n",
       "<style scoped>\n",
       "    .dataframe tbody tr th:only-of-type {\n",
       "        vertical-align: middle;\n",
       "    }\n",
       "\n",
       "    .dataframe tbody tr th {\n",
       "        vertical-align: top;\n",
       "    }\n",
       "\n",
       "    .dataframe thead th {\n",
       "        text-align: right;\n",
       "    }\n",
       "</style>\n",
       "<table border=\"1\" class=\"dataframe\">\n",
       "  <thead>\n",
       "    <tr style=\"text-align: right;\">\n",
       "      <th></th>\n",
       "      <th>Loan amount in 000 HRK</th>\n",
       "      <th>Number of approved loans</th>\n",
       "      <th>Relative frequency - percentage</th>\n",
       "      <th>Cumulative of absolute frequencies</th>\n",
       "      <th>Cumulative of relative frequencies percentage</th>\n",
       "    </tr>\n",
       "  </thead>\n",
       "  <tbody>\n",
       "    <tr>\n",
       "      <th>0</th>\n",
       "      <td>0 - 20</td>\n",
       "      <td>2</td>\n",
       "      <td>1.694915</td>\n",
       "      <td>2.0</td>\n",
       "      <td>1.694915</td>\n",
       "    </tr>\n",
       "    <tr>\n",
       "      <th>1</th>\n",
       "      <td>20 - 40</td>\n",
       "      <td>8</td>\n",
       "      <td>6.779661</td>\n",
       "      <td>10.0</td>\n",
       "      <td>8.474576</td>\n",
       "    </tr>\n",
       "    <tr>\n",
       "      <th>2</th>\n",
       "      <td>40 - 60</td>\n",
       "      <td>16</td>\n",
       "      <td>13.559322</td>\n",
       "      <td>26.0</td>\n",
       "      <td>22.033898</td>\n",
       "    </tr>\n",
       "    <tr>\n",
       "      <th>3</th>\n",
       "      <td>60 - 80</td>\n",
       "      <td>21</td>\n",
       "      <td>17.796610</td>\n",
       "      <td>47.0</td>\n",
       "      <td>39.830508</td>\n",
       "    </tr>\n",
       "    <tr>\n",
       "      <th>4</th>\n",
       "      <td>80 - 100</td>\n",
       "      <td>18</td>\n",
       "      <td>15.254237</td>\n",
       "      <td>65.0</td>\n",
       "      <td>55.084746</td>\n",
       "    </tr>\n",
       "    <tr>\n",
       "      <th>5</th>\n",
       "      <td>100 - 120</td>\n",
       "      <td>14</td>\n",
       "      <td>11.864407</td>\n",
       "      <td>79.0</td>\n",
       "      <td>66.949153</td>\n",
       "    </tr>\n",
       "    <tr>\n",
       "      <th>6</th>\n",
       "      <td>120 - 140</td>\n",
       "      <td>12</td>\n",
       "      <td>10.169492</td>\n",
       "      <td>91.0</td>\n",
       "      <td>77.118644</td>\n",
       "    </tr>\n",
       "    <tr>\n",
       "      <th>7</th>\n",
       "      <td>140 - 160</td>\n",
       "      <td>10</td>\n",
       "      <td>8.474576</td>\n",
       "      <td>101.0</td>\n",
       "      <td>85.593220</td>\n",
       "    </tr>\n",
       "    <tr>\n",
       "      <th>8</th>\n",
       "      <td>160 - 180</td>\n",
       "      <td>9</td>\n",
       "      <td>7.627119</td>\n",
       "      <td>110.0</td>\n",
       "      <td>93.220339</td>\n",
       "    </tr>\n",
       "    <tr>\n",
       "      <th>9</th>\n",
       "      <td>180 - 200</td>\n",
       "      <td>8</td>\n",
       "      <td>6.779661</td>\n",
       "      <td>118.0</td>\n",
       "      <td>100.000000</td>\n",
       "    </tr>\n",
       "    <tr>\n",
       "      <th>10</th>\n",
       "      <td>Total</td>\n",
       "      <td>118</td>\n",
       "      <td>100.000000</td>\n",
       "      <td>649.0</td>\n",
       "      <td>550.000000</td>\n",
       "    </tr>\n",
       "  </tbody>\n",
       "</table>\n",
       "</div>"
      ],
      "text/plain": [
       "   Loan amount in 000 HRK  Number of approved loans  \\\n",
       "0                  0 - 20                         2   \n",
       "1                 20 - 40                         8   \n",
       "2                 40 - 60                        16   \n",
       "3                 60 - 80                        21   \n",
       "4                80 - 100                        18   \n",
       "5               100 - 120                        14   \n",
       "6               120 - 140                        12   \n",
       "7               140 - 160                        10   \n",
       "8               160 - 180                         9   \n",
       "9               180 - 200                         8   \n",
       "10                  Total                       118   \n",
       "\n",
       "    Relative frequency - percentage  Cumulative of absolute frequencies  \\\n",
       "0                          1.694915                                 2.0   \n",
       "1                          6.779661                                10.0   \n",
       "2                         13.559322                                26.0   \n",
       "3                         17.796610                                47.0   \n",
       "4                         15.254237                                65.0   \n",
       "5                         11.864407                                79.0   \n",
       "6                         10.169492                                91.0   \n",
       "7                          8.474576                               101.0   \n",
       "8                          7.627119                               110.0   \n",
       "9                          6.779661                               118.0   \n",
       "10                       100.000000                               649.0   \n",
       "\n",
       "    Cumulative of relative frequencies percentage  \n",
       "0                                        1.694915  \n",
       "1                                        8.474576  \n",
       "2                                       22.033898  \n",
       "3                                       39.830508  \n",
       "4                                       55.084746  \n",
       "5                                       66.949153  \n",
       "6                                       77.118644  \n",
       "7                                       85.593220  \n",
       "8                                       93.220339  \n",
       "9                                      100.000000  \n",
       "10                                     550.000000  "
      ]
     },
     "execution_count": 41,
     "metadata": {},
     "output_type": "execute_result"
    }
   ],
   "source": [
    "table[\"Relative frequency - percentage\"]=table[0:10][\"Number of approved loans\"]/table[\"Number of approved loans\"].iloc[10]*100\n",
    "sum=table[\"Relative frequency - percentage\"][0:10].sum()\n",
    "table[\"Relative frequency - percentage\"].iat[10]=sum\n",
    "\n",
    "\n",
    "table[\"Cumulative of absolute frequencies\"]=table[0:10][\"Number of approved loans\"].cumsum()\n",
    "sum=table[\"Cumulative of absolute frequencies\"][0:10].sum()\n",
    "table[\"Cumulative of absolute frequencies\"].iat[10]=sum\n",
    "#Total of cumulative column isn't valuable info, but I filled it anyway, so the value isn't NaN\n",
    "\n",
    "table[\"Cumulative of relative frequencies percentage\"]=table[0:10][\"Relative frequency - percentage\"].cumsum()\n",
    "sum=table[\"Cumulative of relative frequencies percentage\"][0:10].sum()\n",
    "table[\"Cumulative of relative frequencies percentage\"].iat[10]=sum\n",
    "#Total of cumulative column isn't valuable info, but I filled it anyway, so the value isn't NaN\n",
    "table"
   ]
  },
  {
   "cell_type": "markdown",
   "metadata": {},
   "source": [
    "Show this frequency distribution by histograms using absolute and relative frequencies."
   ]
  },
  {
   "cell_type": "code",
   "execution_count": 42,
   "metadata": {},
   "outputs": [
    {
     "data": {
      "image/png": "[encoded data removed]",
      "text/plain": [
       "<Figure size 432x288 with 1 Axes>"
      ]
     },
     "metadata": {},
     "output_type": "display_data"
    }
   ],
   "source": [
    "table[:-1].plot(x='Loan amount in 000 HRK', y='Number of approved loans', kind='bar')\n",
    "plt.ylabel(\"Absolute frequency\")\n",
    "plt.show()"
   ]
  },
  {
   "cell_type": "code",
   "execution_count": 43,
   "metadata": {},
   "outputs": [
    {
     "data": {
      "image/png": "[encoded data removed]",
      "text/plain": [
       "<Figure size 432x288 with 1 Axes>"
      ]
     },
     "metadata": {},
     "output_type": "display_data"
    }
   ],
   "source": [
    "table[:-1].plot(x='Loan amount in 000 HRK', y='Relative frequency - percentage', kind='bar')\n",
    "plt.ylabel(\"Relative frequency\")\n",
    "plt.show()"
   ]
  },
  {
   "cell_type": "markdown",
   "metadata": {},
   "source": [
    "### 5.5. Exercise 5<a name=\"ex5\"></a>"
   ]
  },
  {
   "cell_type": "code",
   "execution_count": 44,
   "metadata": {},
   "outputs": [],
   "source": [
    "a=np.arange(1,10)\n",
    "b=np.array([2800,1300,1000,1700,2200,1300,800,1400,2100])\n",
    "c=np.array([4,3,5,6,8,3,1,2,5])\n",
    "d=np.array([8,7,11,9,15,4,6,7,3])\n",
    "li = np.array([a,b, c, d]).T\n",
    "columns=(\"Week/Saturday\",\"Turnover in HRK\",\"Number of customers\",\"Number of phone calls\")"
   ]
  },
  {
   "cell_type": "code",
   "execution_count": 45,
   "metadata": {},
   "outputs": [
    {
     "data": {
      "text/html": [
       "<div>\n",
       "<style scoped>\n",
       "    .dataframe tbody tr th:only-of-type {\n",
       "        vertical-align: middle;\n",
       "    }\n",
       "\n",
       "    .dataframe tbody tr th {\n",
       "        vertical-align: top;\n",
       "    }\n",
       "\n",
       "    .dataframe thead th {\n",
       "        text-align: right;\n",
       "    }\n",
       "</style>\n",
       "<table border=\"1\" class=\"dataframe\">\n",
       "  <thead>\n",
       "    <tr style=\"text-align: right;\">\n",
       "      <th></th>\n",
       "      <th>Week/Saturday</th>\n",
       "      <th>Turnover in HRK</th>\n",
       "      <th>Number of customers</th>\n",
       "      <th>Number of phone calls</th>\n",
       "    </tr>\n",
       "  </thead>\n",
       "  <tbody>\n",
       "    <tr>\n",
       "      <th>0</th>\n",
       "      <td>1</td>\n",
       "      <td>2800</td>\n",
       "      <td>4</td>\n",
       "      <td>8</td>\n",
       "    </tr>\n",
       "    <tr>\n",
       "      <th>1</th>\n",
       "      <td>2</td>\n",
       "      <td>1300</td>\n",
       "      <td>3</td>\n",
       "      <td>7</td>\n",
       "    </tr>\n",
       "    <tr>\n",
       "      <th>2</th>\n",
       "      <td>3</td>\n",
       "      <td>1000</td>\n",
       "      <td>5</td>\n",
       "      <td>11</td>\n",
       "    </tr>\n",
       "    <tr>\n",
       "      <th>3</th>\n",
       "      <td>4</td>\n",
       "      <td>1700</td>\n",
       "      <td>6</td>\n",
       "      <td>9</td>\n",
       "    </tr>\n",
       "    <tr>\n",
       "      <th>4</th>\n",
       "      <td>5</td>\n",
       "      <td>2200</td>\n",
       "      <td>8</td>\n",
       "      <td>15</td>\n",
       "    </tr>\n",
       "    <tr>\n",
       "      <th>5</th>\n",
       "      <td>6</td>\n",
       "      <td>1300</td>\n",
       "      <td>3</td>\n",
       "      <td>4</td>\n",
       "    </tr>\n",
       "    <tr>\n",
       "      <th>6</th>\n",
       "      <td>7</td>\n",
       "      <td>800</td>\n",
       "      <td>1</td>\n",
       "      <td>6</td>\n",
       "    </tr>\n",
       "    <tr>\n",
       "      <th>7</th>\n",
       "      <td>8</td>\n",
       "      <td>1400</td>\n",
       "      <td>2</td>\n",
       "      <td>7</td>\n",
       "    </tr>\n",
       "    <tr>\n",
       "      <th>8</th>\n",
       "      <td>9</td>\n",
       "      <td>2100</td>\n",
       "      <td>5</td>\n",
       "      <td>3</td>\n",
       "    </tr>\n",
       "  </tbody>\n",
       "</table>\n",
       "</div>"
      ],
      "text/plain": [
       "   Week/Saturday  Turnover in HRK  Number of customers  Number of phone calls\n",
       "0              1             2800                    4                      8\n",
       "1              2             1300                    3                      7\n",
       "2              3             1000                    5                     11\n",
       "3              4             1700                    6                      9\n",
       "4              5             2200                    8                     15\n",
       "5              6             1300                    3                      4\n",
       "6              7              800                    1                      6\n",
       "7              8             1400                    2                      7\n",
       "8              9             2100                    5                      3"
      ]
     },
     "execution_count": 45,
     "metadata": {},
     "output_type": "execute_result"
    }
   ],
   "source": [
    "data=pd.DataFrame(data=li,columns=columns)\n",
    "data"
   ]
  },
  {
   "cell_type": "markdown",
   "metadata": {},
   "source": [
    "Calculate average turnover"
   ]
  },
  {
   "cell_type": "code",
   "execution_count": 46,
   "metadata": {},
   "outputs": [
    {
     "data": {
      "text/plain": [
       "1622.2222222222222"
      ]
     },
     "execution_count": 46,
     "metadata": {},
     "output_type": "execute_result"
    }
   ],
   "source": [
    "data[\"Turnover in HRK\"].mean()"
   ]
  },
  {
   "cell_type": "markdown",
   "metadata": {},
   "source": [
    "Calculate the turnover deviation from the average for each Saturday"
   ]
  },
  {
   "cell_type": "code",
   "execution_count": 47,
   "metadata": {},
   "outputs": [
    {
     "data": {
      "text/html": [
       "<div>\n",
       "<style scoped>\n",
       "    .dataframe tbody tr th:only-of-type {\n",
       "        vertical-align: middle;\n",
       "    }\n",
       "\n",
       "    .dataframe tbody tr th {\n",
       "        vertical-align: top;\n",
       "    }\n",
       "\n",
       "    .dataframe thead th {\n",
       "        text-align: right;\n",
       "    }\n",
       "</style>\n",
       "<table border=\"1\" class=\"dataframe\">\n",
       "  <thead>\n",
       "    <tr style=\"text-align: right;\">\n",
       "      <th></th>\n",
       "      <th>Week/Saturday</th>\n",
       "      <th>Turnover in HRK</th>\n",
       "      <th>Number of customers</th>\n",
       "      <th>Number of phone calls</th>\n",
       "      <th>Deviation</th>\n",
       "    </tr>\n",
       "  </thead>\n",
       "  <tbody>\n",
       "    <tr>\n",
       "      <th>0</th>\n",
       "      <td>1</td>\n",
       "      <td>2800</td>\n",
       "      <td>4</td>\n",
       "      <td>8</td>\n",
       "      <td>-1177.777778</td>\n",
       "    </tr>\n",
       "    <tr>\n",
       "      <th>1</th>\n",
       "      <td>2</td>\n",
       "      <td>1300</td>\n",
       "      <td>3</td>\n",
       "      <td>7</td>\n",
       "      <td>322.222222</td>\n",
       "    </tr>\n",
       "    <tr>\n",
       "      <th>2</th>\n",
       "      <td>3</td>\n",
       "      <td>1000</td>\n",
       "      <td>5</td>\n",
       "      <td>11</td>\n",
       "      <td>622.222222</td>\n",
       "    </tr>\n",
       "    <tr>\n",
       "      <th>3</th>\n",
       "      <td>4</td>\n",
       "      <td>1700</td>\n",
       "      <td>6</td>\n",
       "      <td>9</td>\n",
       "      <td>-77.777778</td>\n",
       "    </tr>\n",
       "    <tr>\n",
       "      <th>4</th>\n",
       "      <td>5</td>\n",
       "      <td>2200</td>\n",
       "      <td>8</td>\n",
       "      <td>15</td>\n",
       "      <td>-577.777778</td>\n",
       "    </tr>\n",
       "    <tr>\n",
       "      <th>5</th>\n",
       "      <td>6</td>\n",
       "      <td>1300</td>\n",
       "      <td>3</td>\n",
       "      <td>4</td>\n",
       "      <td>322.222222</td>\n",
       "    </tr>\n",
       "    <tr>\n",
       "      <th>6</th>\n",
       "      <td>7</td>\n",
       "      <td>800</td>\n",
       "      <td>1</td>\n",
       "      <td>6</td>\n",
       "      <td>822.222222</td>\n",
       "    </tr>\n",
       "    <tr>\n",
       "      <th>7</th>\n",
       "      <td>8</td>\n",
       "      <td>1400</td>\n",
       "      <td>2</td>\n",
       "      <td>7</td>\n",
       "      <td>222.222222</td>\n",
       "    </tr>\n",
       "    <tr>\n",
       "      <th>8</th>\n",
       "      <td>9</td>\n",
       "      <td>2100</td>\n",
       "      <td>5</td>\n",
       "      <td>3</td>\n",
       "      <td>-477.777778</td>\n",
       "    </tr>\n",
       "  </tbody>\n",
       "</table>\n",
       "</div>"
      ],
      "text/plain": [
       "   Week/Saturday  Turnover in HRK  Number of customers  Number of phone calls  \\\n",
       "0              1             2800                    4                      8   \n",
       "1              2             1300                    3                      7   \n",
       "2              3             1000                    5                     11   \n",
       "3              4             1700                    6                      9   \n",
       "4              5             2200                    8                     15   \n",
       "5              6             1300                    3                      4   \n",
       "6              7              800                    1                      6   \n",
       "7              8             1400                    2                      7   \n",
       "8              9             2100                    5                      3   \n",
       "\n",
       "     Deviation  \n",
       "0 -1177.777778  \n",
       "1   322.222222  \n",
       "2   622.222222  \n",
       "3   -77.777778  \n",
       "4  -577.777778  \n",
       "5   322.222222  \n",
       "6   822.222222  \n",
       "7   222.222222  \n",
       "8  -477.777778  "
      ]
     },
     "execution_count": 47,
     "metadata": {},
     "output_type": "execute_result"
    }
   ],
   "source": [
    "data[\"Deviation\"]=data[\"Turnover in HRK\"].mean()-data[\"Turnover in HRK\"]\n",
    "data"
   ]
  },
  {
   "cell_type": "markdown",
   "metadata": {},
   "source": [
    "Group data into 5 intervals that have the same width"
   ]
  },
  {
   "cell_type": "code",
   "execution_count": 48,
   "metadata": {},
   "outputs": [
    {
     "data": {
      "text/html": [
       "<div>\n",
       "<style scoped>\n",
       "    .dataframe tbody tr th:only-of-type {\n",
       "        vertical-align: middle;\n",
       "    }\n",
       "\n",
       "    .dataframe tbody tr th {\n",
       "        vertical-align: top;\n",
       "    }\n",
       "\n",
       "    .dataframe thead th {\n",
       "        text-align: right;\n",
       "    }\n",
       "</style>\n",
       "<table border=\"1\" class=\"dataframe\">\n",
       "  <thead>\n",
       "    <tr style=\"text-align: right;\">\n",
       "      <th></th>\n",
       "      <th>Week/Saturday</th>\n",
       "      <th>Turnover in HRK</th>\n",
       "      <th>Number of customers</th>\n",
       "      <th>Number of phone calls</th>\n",
       "      <th>Deviation</th>\n",
       "      <th>Bins</th>\n",
       "    </tr>\n",
       "  </thead>\n",
       "  <tbody>\n",
       "    <tr>\n",
       "      <th>0</th>\n",
       "      <td>1</td>\n",
       "      <td>2800</td>\n",
       "      <td>4</td>\n",
       "      <td>8</td>\n",
       "      <td>-1177.777778</td>\n",
       "      <td>(2400.0, 2800.0]</td>\n",
       "    </tr>\n",
       "    <tr>\n",
       "      <th>1</th>\n",
       "      <td>2</td>\n",
       "      <td>1300</td>\n",
       "      <td>3</td>\n",
       "      <td>7</td>\n",
       "      <td>322.222222</td>\n",
       "      <td>(1200.0, 1600.0]</td>\n",
       "    </tr>\n",
       "    <tr>\n",
       "      <th>2</th>\n",
       "      <td>3</td>\n",
       "      <td>1000</td>\n",
       "      <td>5</td>\n",
       "      <td>11</td>\n",
       "      <td>622.222222</td>\n",
       "      <td>(798.0, 1200.0]</td>\n",
       "    </tr>\n",
       "    <tr>\n",
       "      <th>3</th>\n",
       "      <td>4</td>\n",
       "      <td>1700</td>\n",
       "      <td>6</td>\n",
       "      <td>9</td>\n",
       "      <td>-77.777778</td>\n",
       "      <td>(1600.0, 2000.0]</td>\n",
       "    </tr>\n",
       "    <tr>\n",
       "      <th>4</th>\n",
       "      <td>5</td>\n",
       "      <td>2200</td>\n",
       "      <td>8</td>\n",
       "      <td>15</td>\n",
       "      <td>-577.777778</td>\n",
       "      <td>(2000.0, 2400.0]</td>\n",
       "    </tr>\n",
       "    <tr>\n",
       "      <th>5</th>\n",
       "      <td>6</td>\n",
       "      <td>1300</td>\n",
       "      <td>3</td>\n",
       "      <td>4</td>\n",
       "      <td>322.222222</td>\n",
       "      <td>(1200.0, 1600.0]</td>\n",
       "    </tr>\n",
       "    <tr>\n",
       "      <th>6</th>\n",
       "      <td>7</td>\n",
       "      <td>800</td>\n",
       "      <td>1</td>\n",
       "      <td>6</td>\n",
       "      <td>822.222222</td>\n",
       "      <td>(798.0, 1200.0]</td>\n",
       "    </tr>\n",
       "    <tr>\n",
       "      <th>7</th>\n",
       "      <td>8</td>\n",
       "      <td>1400</td>\n",
       "      <td>2</td>\n",
       "      <td>7</td>\n",
       "      <td>222.222222</td>\n",
       "      <td>(1200.0, 1600.0]</td>\n",
       "    </tr>\n",
       "    <tr>\n",
       "      <th>8</th>\n",
       "      <td>9</td>\n",
       "      <td>2100</td>\n",
       "      <td>5</td>\n",
       "      <td>3</td>\n",
       "      <td>-477.777778</td>\n",
       "      <td>(2000.0, 2400.0]</td>\n",
       "    </tr>\n",
       "  </tbody>\n",
       "</table>\n",
       "</div>"
      ],
      "text/plain": [
       "   Week/Saturday  Turnover in HRK  Number of customers  Number of phone calls  \\\n",
       "0              1             2800                    4                      8   \n",
       "1              2             1300                    3                      7   \n",
       "2              3             1000                    5                     11   \n",
       "3              4             1700                    6                      9   \n",
       "4              5             2200                    8                     15   \n",
       "5              6             1300                    3                      4   \n",
       "6              7              800                    1                      6   \n",
       "7              8             1400                    2                      7   \n",
       "8              9             2100                    5                      3   \n",
       "\n",
       "     Deviation              Bins  \n",
       "0 -1177.777778  (2400.0, 2800.0]  \n",
       "1   322.222222  (1200.0, 1600.0]  \n",
       "2   622.222222   (798.0, 1200.0]  \n",
       "3   -77.777778  (1600.0, 2000.0]  \n",
       "4  -577.777778  (2000.0, 2400.0]  \n",
       "5   322.222222  (1200.0, 1600.0]  \n",
       "6   822.222222   (798.0, 1200.0]  \n",
       "7   222.222222  (1200.0, 1600.0]  \n",
       "8  -477.777778  (2000.0, 2400.0]  "
      ]
     },
     "execution_count": 48,
     "metadata": {},
     "output_type": "execute_result"
    }
   ],
   "source": [
    "data[\"Bins\"]=pd.cut(data[\"Turnover in HRK\"],bins=5)\n",
    "data"
   ]
  },
  {
   "attachments": {},
   "cell_type": "markdown",
   "metadata": {},
   "source": [
    "Draw histogram"
   ]
  },
  {
   "cell_type": "code",
   "execution_count": 49,
   "metadata": {},
   "outputs": [
    {
     "data": {
      "image/png": "[encoded data removed]",
      "text/plain": [
       "<Figure size 432x288 with 1 Axes>"
      ]
     },
     "metadata": {},
     "output_type": "display_data"
    }
   ],
   "source": [
    "plt.hist(data[\"Turnover in HRK\"], 5, facecolor='blue', alpha=0.5,ec=\"black\")\n",
    "plt.ylabel(\"Count\")\n",
    "plt.xlabel(\"Turnover in HRK\")\n",
    "plt.show()\n"
   ]
  }
 ],
 "metadata": {
  "kernelspec": {
   "display_name": "Python 3",
   "language": "python",
   "name": "python3"
  },
  "language_info": {
   "codemirror_mode": {
    "name": "ipython",
    "version": 3
   },
   "file_extension": ".py",
   "mimetype": "text/x-python",
   "name": "python",
   "nbconvert_exporter": "python",
   "pygments_lexer": "ipython3",
   "version": "3.7.7"
  }
 },
 "nbformat": 4,
 "nbformat_minor": 4
}
