{
 "cells": [
  {
   "cell_type": "markdown",
   "metadata": {},
   "source": [
    "# Introduction to Data Science  - Homework \n",
    "\n",
    "![Algebra](https://repozitorij.algebra.hr/sites/repozitorij.algebra.hr/files/algebra_subbrand_vu_color-black_h_1.png)\n",
    "\n",
    "=========================================================================================================================\n",
    "\n",
    "*Author -  Mislav Spajić, univ. bacc. ing. agr.*\n",
    "\n",
    "*Menthor -  mr. sc. Mirko Talajić* \n",
    "\n",
    "*April 2020.*\n",
    "\n",
    "---------------------------------------------------------------------------------------------------------------"
   ]
  },
  {
   "attachments": {},
   "cell_type": "markdown",
   "metadata": {},
   "source": [
    "## Table of Contents\n",
    "\n",
    "[1. Importing Python Modules and Initial Setup](#import)\n",
    "\n",
    "[2. Frequency Distribution Tables](#freq_tables)\n",
    "\n",
    "\n",
    "   > [2.1. Discrete & Categorical Variables](#disccat)   \n",
    "   > [2.2. Continuous Variables](#cont)  \n",
    "   > [2.3. Contingency Tables](#cross)   \n",
    "   \n",
    "\n",
    "[3. Central Tendency Measures](#central)\n",
    "\n",
    "   > [3.1. Mean](#mean)   \n",
    "   > [3.2. Mode](#mode)    \n",
    "   > [3.3. Median](#median)   \n",
    "   > [3.4. Other Measures](#other)\n",
    "   \n",
    "   \n",
    "\n",
    "[4. Graphical Views](#graph)\n",
    "\n",
    "   > [4.1. Histogram](#hist)   \n",
    "   > [4.2. Bar Plot](#bar)    \n",
    "   > [4.3. Frequency Polygon](#freqpol)   \n",
    "   > [4.4. Scatter Diagram](#scatter)   \n",
    "   > [4.5. Pie Plot](#pie)   \n",
    "   > [4.6. Box & Whisker Plot](#box)   \n",
    "   \n",
    "[5. Exercises](#exercise)\n",
    "\n",
    "   > [5.1. Exercise 1](#ex1)   \n",
    "   > [5.2. Exercise 2](#ex2)    \n",
    "   > [5.3. Exercise 3](#ex3)   \n",
    "   > [5.4. Exercise 4](#ex4)   \n",
    "   > [5.5. Exercise 5](#ex5)   \n",
    "   \n",
    "---------------------------------------------------------------------\n",
    "   \n",
    "   "
   ]
  },
  {
   "cell_type": "markdown",
   "metadata": {},
   "source": [
    "## 1. Importing Python Modules and Initial Setup<a name=\"import\"></a>\n",
    "--------------------------------------------------------"
   ]
  },
  {
   "cell_type": "code",
   "execution_count": 340,
   "metadata": {},
   "outputs": [],
   "source": [
    "#Needed libraries\n",
    "import numpy as np\n",
    "import pandas as pd\n",
    "import matplotlib.pyplot as plt\n",
    "from scipy import stats\n",
    "from sklearn.datasets import load_iris\n",
    "\n",
    "%matplotlib inline \n",
    "#Jupyter inline magic command needed to display plots\n",
    "plt.style.use(\"ggplot\")\n",
    "#Setting different plot style than default"
   ]
  },
  {
   "cell_type": "code",
   "execution_count": 425,
   "metadata": {},
   "outputs": [],
   "source": [
    "# Importing data from lab\n",
    "data=pd.read_excel(\n",
    "    \"https://github.com/MySlav/Introduction_to_DS_Homework/raw/master/Data_for_labs_v1.xlsx\",\n",
    "sheet_name=[\"Loans Number\",\"Loan Amount\",\"Restaurant guests\",\"Exercise 4\",\"Exercise 5\"])\n",
    "#Importing all needed sheets in a dict of dataframes"
   ]
  },
  {
   "cell_type": "markdown",
   "metadata": {},
   "source": [
    "## 2. Frequency Distribution Tables<a name=\"freq_tables\"></a>\n",
    "--------------------------------------------------------"
   ]
  },
  {
   "cell_type": "markdown",
   "metadata": {},
   "source": [
    "### 2.1. Discrete & Categorical Variables<a name=\"disccat\"></a>"
   ]
  },
  {
   "cell_type": "code",
   "execution_count": 329,
   "metadata": {},
   "outputs": [
    {
     "data": {
      "text/html": [
       "<div>\n",
       "<style scoped>\n",
       "    .dataframe tbody tr th:only-of-type {\n",
       "        vertical-align: middle;\n",
       "    }\n",
       "\n",
       "    .dataframe tbody tr th {\n",
       "        vertical-align: top;\n",
       "    }\n",
       "\n",
       "    .dataframe thead th {\n",
       "        text-align: right;\n",
       "    }\n",
       "</style>\n",
       "<table border=\"1\" class=\"dataframe\">\n",
       "  <thead>\n",
       "    <tr style=\"text-align: right;\">\n",
       "      <th></th>\n",
       "      <th>Loans number per day Branch 1</th>\n",
       "    </tr>\n",
       "  </thead>\n",
       "  <tbody>\n",
       "    <tr>\n",
       "      <th>1</th>\n",
       "      <td>34</td>\n",
       "    </tr>\n",
       "    <tr>\n",
       "      <th>2</th>\n",
       "      <td>34</td>\n",
       "    </tr>\n",
       "    <tr>\n",
       "      <th>3</th>\n",
       "      <td>25</td>\n",
       "    </tr>\n",
       "    <tr>\n",
       "      <th>4</th>\n",
       "      <td>24</td>\n",
       "    </tr>\n",
       "    <tr>\n",
       "      <th>5</th>\n",
       "      <td>23</td>\n",
       "    </tr>\n",
       "    <tr>\n",
       "      <th>6</th>\n",
       "      <td>25</td>\n",
       "    </tr>\n",
       "    <tr>\n",
       "      <th>7</th>\n",
       "      <td>29</td>\n",
       "    </tr>\n",
       "    <tr>\n",
       "      <th>8</th>\n",
       "      <td>35</td>\n",
       "    </tr>\n",
       "    <tr>\n",
       "      <th>9</th>\n",
       "      <td>33</td>\n",
       "    </tr>\n",
       "    <tr>\n",
       "      <th>10</th>\n",
       "      <td>24</td>\n",
       "    </tr>\n",
       "  </tbody>\n",
       "</table>\n",
       "</div>"
      ],
      "text/plain": [
       "    Loans number per day Branch 1\n",
       "1                              34\n",
       "2                              34\n",
       "3                              25\n",
       "4                              24\n",
       "5                              23\n",
       "6                              25\n",
       "7                              29\n",
       "8                              35\n",
       "9                              33\n",
       "10                             24"
      ]
     },
     "execution_count": 329,
     "metadata": {},
     "output_type": "execute_result"
    }
   ],
   "source": [
    "#Simple way to get Absolute Frequency of Loans Number\n",
    "DF=data['Loans Number'].apply(pd.value_counts).sort_index()\n",
    "DF"
   ]
  },
  {
   "cell_type": "code",
   "execution_count": 330,
   "metadata": {},
   "outputs": [],
   "source": [
    "#Changing column name to make it clear what it is\n",
    "DF.rename(columns={\"Loans number per day Branch 1\": \"Absolute_Freq.\"},inplace=True)"
   ]
  },
  {
   "cell_type": "code",
   "execution_count": 331,
   "metadata": {},
   "outputs": [
    {
     "data": {
      "text/html": [
       "<div>\n",
       "<style scoped>\n",
       "    .dataframe tbody tr th:only-of-type {\n",
       "        vertical-align: middle;\n",
       "    }\n",
       "\n",
       "    .dataframe tbody tr th {\n",
       "        vertical-align: top;\n",
       "    }\n",
       "\n",
       "    .dataframe thead th {\n",
       "        text-align: right;\n",
       "    }\n",
       "</style>\n",
       "<table border=\"1\" class=\"dataframe\">\n",
       "  <thead>\n",
       "    <tr style=\"text-align: right;\">\n",
       "      <th></th>\n",
       "      <th>Absolute_Freq.</th>\n",
       "      <th>Relative_Prop</th>\n",
       "      <th>Relative%</th>\n",
       "      <th>Cum_Relative_Prop</th>\n",
       "      <th>Cum_Relative%</th>\n",
       "    </tr>\n",
       "  </thead>\n",
       "  <tbody>\n",
       "    <tr>\n",
       "      <th>1</th>\n",
       "      <td>34</td>\n",
       "      <td>0.118881</td>\n",
       "      <td>11.888112</td>\n",
       "      <td>0.118881</td>\n",
       "      <td>11.888112</td>\n",
       "    </tr>\n",
       "    <tr>\n",
       "      <th>2</th>\n",
       "      <td>34</td>\n",
       "      <td>0.118881</td>\n",
       "      <td>11.888112</td>\n",
       "      <td>0.237762</td>\n",
       "      <td>23.776224</td>\n",
       "    </tr>\n",
       "    <tr>\n",
       "      <th>3</th>\n",
       "      <td>25</td>\n",
       "      <td>0.087413</td>\n",
       "      <td>8.741259</td>\n",
       "      <td>0.325175</td>\n",
       "      <td>32.517483</td>\n",
       "    </tr>\n",
       "    <tr>\n",
       "      <th>4</th>\n",
       "      <td>24</td>\n",
       "      <td>0.083916</td>\n",
       "      <td>8.391608</td>\n",
       "      <td>0.409091</td>\n",
       "      <td>40.909091</td>\n",
       "    </tr>\n",
       "    <tr>\n",
       "      <th>5</th>\n",
       "      <td>23</td>\n",
       "      <td>0.080420</td>\n",
       "      <td>8.041958</td>\n",
       "      <td>0.489510</td>\n",
       "      <td>48.951049</td>\n",
       "    </tr>\n",
       "    <tr>\n",
       "      <th>6</th>\n",
       "      <td>25</td>\n",
       "      <td>0.087413</td>\n",
       "      <td>8.741259</td>\n",
       "      <td>0.576923</td>\n",
       "      <td>57.692308</td>\n",
       "    </tr>\n",
       "    <tr>\n",
       "      <th>7</th>\n",
       "      <td>29</td>\n",
       "      <td>0.101399</td>\n",
       "      <td>10.139860</td>\n",
       "      <td>0.678322</td>\n",
       "      <td>67.832168</td>\n",
       "    </tr>\n",
       "    <tr>\n",
       "      <th>8</th>\n",
       "      <td>35</td>\n",
       "      <td>0.122378</td>\n",
       "      <td>12.237762</td>\n",
       "      <td>0.800699</td>\n",
       "      <td>80.069930</td>\n",
       "    </tr>\n",
       "    <tr>\n",
       "      <th>9</th>\n",
       "      <td>33</td>\n",
       "      <td>0.115385</td>\n",
       "      <td>11.538462</td>\n",
       "      <td>0.916084</td>\n",
       "      <td>91.608392</td>\n",
       "    </tr>\n",
       "    <tr>\n",
       "      <th>10</th>\n",
       "      <td>24</td>\n",
       "      <td>0.083916</td>\n",
       "      <td>8.391608</td>\n",
       "      <td>1.000000</td>\n",
       "      <td>100.000000</td>\n",
       "    </tr>\n",
       "  </tbody>\n",
       "</table>\n",
       "</div>"
      ],
      "text/plain": [
       "    Absolute_Freq.  Relative_Prop  Relative%  Cum_Relative_Prop  Cum_Relative%\n",
       "1               34       0.118881  11.888112           0.118881      11.888112\n",
       "2               34       0.118881  11.888112           0.237762      23.776224\n",
       "3               25       0.087413   8.741259           0.325175      32.517483\n",
       "4               24       0.083916   8.391608           0.409091      40.909091\n",
       "5               23       0.080420   8.041958           0.489510      48.951049\n",
       "6               25       0.087413   8.741259           0.576923      57.692308\n",
       "7               29       0.101399  10.139860           0.678322      67.832168\n",
       "8               35       0.122378  12.237762           0.800699      80.069930\n",
       "9               33       0.115385  11.538462           0.916084      91.608392\n",
       "10              24       0.083916   8.391608           1.000000     100.000000"
      ]
     },
     "execution_count": 331,
     "metadata": {},
     "output_type": "execute_result"
    }
   ],
   "source": [
    "#Relative proportion and percentage frequencies and their cumulatives\n",
    "DF[\"Relative_Prop\"]=DF/DF.sum()\n",
    "DF[\"Relative%\"]=DF[\"Relative_Prop\"]*100\n",
    "\n",
    "DF[\"Cum_Relative_Prop\"]=DF[\"Relative_Prop\"].cumsum()\n",
    "DF[\"Cum_Relative%\"]=DF[\"Relative%\"].cumsum()\n",
    "\n",
    "DF"
   ]
  },
  {
   "cell_type": "markdown",
   "metadata": {},
   "source": [
    "### 2.2. Continuous Variables<a name=\"cont\"></a>"
   ]
  },
  {
   "cell_type": "code",
   "execution_count": 400,
   "metadata": {},
   "outputs": [
    {
     "data": {
      "text/html": [
       "<div>\n",
       "<style scoped>\n",
       "    .dataframe tbody tr th:only-of-type {\n",
       "        vertical-align: middle;\n",
       "    }\n",
       "\n",
       "    .dataframe tbody tr th {\n",
       "        vertical-align: top;\n",
       "    }\n",
       "\n",
       "    .dataframe thead th {\n",
       "        text-align: right;\n",
       "    }\n",
       "</style>\n",
       "<table border=\"1\" class=\"dataframe\">\n",
       "  <thead>\n",
       "    <tr style=\"text-align: right;\">\n",
       "      <th></th>\n",
       "      <th>sepal length (cm)</th>\n",
       "      <th>sepal width (cm)</th>\n",
       "      <th>petal length (cm)</th>\n",
       "      <th>petal width (cm)</th>\n",
       "    </tr>\n",
       "  </thead>\n",
       "  <tbody>\n",
       "    <tr>\n",
       "      <th>0</th>\n",
       "      <td>5.1</td>\n",
       "      <td>3.5</td>\n",
       "      <td>1.4</td>\n",
       "      <td>0.2</td>\n",
       "    </tr>\n",
       "    <tr>\n",
       "      <th>1</th>\n",
       "      <td>4.9</td>\n",
       "      <td>3.0</td>\n",
       "      <td>1.4</td>\n",
       "      <td>0.2</td>\n",
       "    </tr>\n",
       "    <tr>\n",
       "      <th>2</th>\n",
       "      <td>4.7</td>\n",
       "      <td>3.2</td>\n",
       "      <td>1.3</td>\n",
       "      <td>0.2</td>\n",
       "    </tr>\n",
       "    <tr>\n",
       "      <th>3</th>\n",
       "      <td>4.6</td>\n",
       "      <td>3.1</td>\n",
       "      <td>1.5</td>\n",
       "      <td>0.2</td>\n",
       "    </tr>\n",
       "    <tr>\n",
       "      <th>4</th>\n",
       "      <td>5.0</td>\n",
       "      <td>3.6</td>\n",
       "      <td>1.4</td>\n",
       "      <td>0.2</td>\n",
       "    </tr>\n",
       "    <tr>\n",
       "      <th>...</th>\n",
       "      <td>...</td>\n",
       "      <td>...</td>\n",
       "      <td>...</td>\n",
       "      <td>...</td>\n",
       "    </tr>\n",
       "    <tr>\n",
       "      <th>145</th>\n",
       "      <td>6.7</td>\n",
       "      <td>3.0</td>\n",
       "      <td>5.2</td>\n",
       "      <td>2.3</td>\n",
       "    </tr>\n",
       "    <tr>\n",
       "      <th>146</th>\n",
       "      <td>6.3</td>\n",
       "      <td>2.5</td>\n",
       "      <td>5.0</td>\n",
       "      <td>1.9</td>\n",
       "    </tr>\n",
       "    <tr>\n",
       "      <th>147</th>\n",
       "      <td>6.5</td>\n",
       "      <td>3.0</td>\n",
       "      <td>5.2</td>\n",
       "      <td>2.0</td>\n",
       "    </tr>\n",
       "    <tr>\n",
       "      <th>148</th>\n",
       "      <td>6.2</td>\n",
       "      <td>3.4</td>\n",
       "      <td>5.4</td>\n",
       "      <td>2.3</td>\n",
       "    </tr>\n",
       "    <tr>\n",
       "      <th>149</th>\n",
       "      <td>5.9</td>\n",
       "      <td>3.0</td>\n",
       "      <td>5.1</td>\n",
       "      <td>1.8</td>\n",
       "    </tr>\n",
       "  </tbody>\n",
       "</table>\n",
       "<p>150 rows × 4 columns</p>\n",
       "</div>"
      ],
      "text/plain": [
       "     sepal length (cm)  sepal width (cm)  petal length (cm)  petal width (cm)\n",
       "0                  5.1               3.5                1.4               0.2\n",
       "1                  4.9               3.0                1.4               0.2\n",
       "2                  4.7               3.2                1.3               0.2\n",
       "3                  4.6               3.1                1.5               0.2\n",
       "4                  5.0               3.6                1.4               0.2\n",
       "..                 ...               ...                ...               ...\n",
       "145                6.7               3.0                5.2               2.3\n",
       "146                6.3               2.5                5.0               1.9\n",
       "147                6.5               3.0                5.2               2.0\n",
       "148                6.2               3.4                5.4               2.3\n",
       "149                5.9               3.0                5.1               1.8\n",
       "\n",
       "[150 rows x 4 columns]"
      ]
     },
     "execution_count": 400,
     "metadata": {},
     "output_type": "execute_result"
    }
   ],
   "source": [
    "#For continuous variables we should create some intervals or classes\n",
    "#I will use famous iris dataset available in sklearn library for demonstration\n",
    "iris = load_iris()\n",
    "#Need to transform this to dataframe\n",
    "iris = pd.DataFrame(iris['data'], columns=iris['feature_names'])\n",
    "\n",
    "\n",
    "#Lets check it out\n",
    "iris"
   ]
  },
  {
   "cell_type": "code",
   "execution_count": 408,
   "metadata": {},
   "outputs": [
    {
     "data": {
      "text/plain": [
       "(4.9, 5.1]      19\n",
       "(5.5, 5.7]      14\n",
       "(5.3, 5.5]      13\n",
       "(6.1, 6.3]      13\n",
       "(5.9, 6.1]      12\n",
       "(6.3, 6.5]      12\n",
       "(4.7, 4.9]      11\n",
       "(6.5, 6.7]      10\n",
       "(5.7, 5.9]      10\n",
       "(6.7, 6.9]       7\n",
       "(4.5, 4.7]       6\n",
       "(5.1, 5.3]       5\n",
       "(4.295, 4.5]     5\n",
       "(7.5, 7.7]       5\n",
       "(7.1, 7.3]       4\n",
       "(6.9, 7.1]       2\n",
       "(7.3, 7.5]       1\n",
       "(7.7, 7.9]       1\n",
       "Name: sepal length (cm), dtype: int64"
      ]
     },
     "execution_count": 408,
     "metadata": {},
     "output_type": "execute_result"
    }
   ],
   "source": [
    "#I will use sepal length for this example\n",
    "dat=iris[\"sepal length (cm)\"]\n",
    "\n",
    "#Number of bins = 1 + 3.3 * log n\n",
    "num=1+3.3*np.log(len(dat))\n",
    "num=int(num+0.5) # Rounding\n",
    "\n",
    "dat.value_counts(bins=num)\n",
    "#Note that I again used value_counts, but i passed calculated number of bins as argument"
   ]
  },
  {
   "attachments": {},
   "cell_type": "markdown",
   "metadata": {},
   "source": [
    "### 2.3. Contingency Tables<a name=\"cross\"></a>"
   ]
  },
  {
   "attachments": {},
   "cell_type": "markdown",
   "metadata": {},
   "source": [
    "Contingency tables or cross tables - sometimes called a two-way frequency table, here data is classified by simultaneous grouping according to two or more variables."
   ]
  },
  {
   "cell_type": "code",
   "execution_count": 428,
   "metadata": {},
   "outputs": [
    {
     "data": {
      "text/html": [
       "<div>\n",
       "<style scoped>\n",
       "    .dataframe tbody tr th:only-of-type {\n",
       "        vertical-align: middle;\n",
       "    }\n",
       "\n",
       "    .dataframe tbody tr th {\n",
       "        vertical-align: top;\n",
       "    }\n",
       "\n",
       "    .dataframe thead th {\n",
       "        text-align: right;\n",
       "    }\n",
       "</style>\n",
       "<table border=\"1\" class=\"dataframe\">\n",
       "  <thead>\n",
       "    <tr style=\"text-align: right;\">\n",
       "      <th></th>\n",
       "      <th>Guest ID</th>\n",
       "      <th>Gender</th>\n",
       "      <th>Number of restaurant visit</th>\n",
       "    </tr>\n",
       "  </thead>\n",
       "  <tbody>\n",
       "    <tr>\n",
       "      <th>0</th>\n",
       "      <td>1</td>\n",
       "      <td>M</td>\n",
       "      <td>2</td>\n",
       "    </tr>\n",
       "    <tr>\n",
       "      <th>1</th>\n",
       "      <td>2</td>\n",
       "      <td>F</td>\n",
       "      <td>1</td>\n",
       "    </tr>\n",
       "    <tr>\n",
       "      <th>2</th>\n",
       "      <td>3</td>\n",
       "      <td>M</td>\n",
       "      <td>2</td>\n",
       "    </tr>\n",
       "    <tr>\n",
       "      <th>3</th>\n",
       "      <td>4</td>\n",
       "      <td>M</td>\n",
       "      <td>1</td>\n",
       "    </tr>\n",
       "    <tr>\n",
       "      <th>4</th>\n",
       "      <td>5</td>\n",
       "      <td>F</td>\n",
       "      <td>1</td>\n",
       "    </tr>\n",
       "    <tr>\n",
       "      <th>...</th>\n",
       "      <td>...</td>\n",
       "      <td>...</td>\n",
       "      <td>...</td>\n",
       "    </tr>\n",
       "    <tr>\n",
       "      <th>95</th>\n",
       "      <td>96</td>\n",
       "      <td>F</td>\n",
       "      <td>1</td>\n",
       "    </tr>\n",
       "    <tr>\n",
       "      <th>96</th>\n",
       "      <td>97</td>\n",
       "      <td>F</td>\n",
       "      <td>2</td>\n",
       "    </tr>\n",
       "    <tr>\n",
       "      <th>97</th>\n",
       "      <td>98</td>\n",
       "      <td>M</td>\n",
       "      <td>2</td>\n",
       "    </tr>\n",
       "    <tr>\n",
       "      <th>98</th>\n",
       "      <td>99</td>\n",
       "      <td>M</td>\n",
       "      <td>3</td>\n",
       "    </tr>\n",
       "    <tr>\n",
       "      <th>99</th>\n",
       "      <td>100</td>\n",
       "      <td>F</td>\n",
       "      <td>1</td>\n",
       "    </tr>\n",
       "  </tbody>\n",
       "</table>\n",
       "<p>100 rows × 3 columns</p>\n",
       "</div>"
      ],
      "text/plain": [
       "    Guest ID Gender  Number of restaurant visit\n",
       "0          1      M                           2\n",
       "1          2      F                           1\n",
       "2          3      M                           2\n",
       "3          4      M                           1\n",
       "4          5      F                           1\n",
       "..       ...    ...                         ...\n",
       "95        96      F                           1\n",
       "96        97      F                           2\n",
       "97        98      M                           2\n",
       "98        99      M                           3\n",
       "99       100      F                           1\n",
       "\n",
       "[100 rows x 3 columns]"
      ]
     },
     "execution_count": 428,
     "metadata": {},
     "output_type": "execute_result"
    }
   ],
   "source": [
    "#I will use the Restaraunt guests data to show how to make cross table\n",
    "data[\"Restaurant guests\"]"
   ]
  },
  {
   "cell_type": "code",
   "execution_count": 435,
   "metadata": {},
   "outputs": [
    {
     "data": {
      "text/html": [
       "<div>\n",
       "<style scoped>\n",
       "    .dataframe tbody tr th:only-of-type {\n",
       "        vertical-align: middle;\n",
       "    }\n",
       "\n",
       "    .dataframe tbody tr th {\n",
       "        vertical-align: top;\n",
       "    }\n",
       "\n",
       "    .dataframe thead th {\n",
       "        text-align: right;\n",
       "    }\n",
       "</style>\n",
       "<table border=\"1\" class=\"dataframe\">\n",
       "  <thead>\n",
       "    <tr style=\"text-align: right;\">\n",
       "      <th>Number of restaurant visit</th>\n",
       "      <th>1</th>\n",
       "      <th>2</th>\n",
       "      <th>3</th>\n",
       "    </tr>\n",
       "    <tr>\n",
       "      <th>Gender</th>\n",
       "      <th></th>\n",
       "      <th></th>\n",
       "      <th></th>\n",
       "    </tr>\n",
       "  </thead>\n",
       "  <tbody>\n",
       "    <tr>\n",
       "      <th>F</th>\n",
       "      <td>16</td>\n",
       "      <td>22</td>\n",
       "      <td>13</td>\n",
       "    </tr>\n",
       "    <tr>\n",
       "      <th>M</th>\n",
       "      <td>20</td>\n",
       "      <td>20</td>\n",
       "      <td>9</td>\n",
       "    </tr>\n",
       "  </tbody>\n",
       "</table>\n",
       "</div>"
      ],
      "text/plain": [
       "Number of restaurant visit   1   2   3\n",
       "Gender                                \n",
       "F                           16  22  13\n",
       "M                           20  20   9"
      ]
     },
     "execution_count": 435,
     "metadata": {},
     "output_type": "execute_result"
    }
   ],
   "source": [
    "pd.crosstab(data[\"Restaurant guests\"][\"Gender\"], data[\"Restaurant guests\"][\"Number of restaurant visit\"])"
   ]
  },
  {
   "cell_type": "markdown",
   "metadata": {},
   "source": [
    "## 3. Central Tendency Measures<a name=\"central\"></a>\n",
    "--------------------------------------------------------"
   ]
  },
  {
   "cell_type": "code",
   "execution_count": 352,
   "metadata": {},
   "outputs": [
    {
     "data": {
      "text/plain": [
       "0      4\n",
       "1      7\n",
       "2      1\n",
       "3      9\n",
       "4      1\n",
       "      ..\n",
       "281    2\n",
       "282    5\n",
       "283    8\n",
       "284    3\n",
       "285    9\n",
       "Name: Loans number per day Branch 1, Length: 286, dtype: int64"
      ]
     },
     "execution_count": 352,
     "metadata": {},
     "output_type": "execute_result"
    }
   ],
   "source": [
    "#Data i will use for analysis\n",
    "data['Loans Number'][\"Loans number per day Branch 1\"]"
   ]
  },
  {
   "cell_type": "code",
   "execution_count": 353,
   "metadata": {},
   "outputs": [],
   "source": [
    "#Let's assign this series we want to analyze to a variable for convenience\n",
    "data_cmt=data['Loans Number'][\"Loans number per day Branch 1\"]"
   ]
  },
  {
   "cell_type": "markdown",
   "metadata": {},
   "source": [
    "### 3.1. Mean<a name=\"mean\"></a>"
   ]
  },
  {
   "cell_type": "code",
   "execution_count": 354,
   "metadata": {},
   "outputs": [
    {
     "data": {
      "text/plain": [
       "5.4475524475524475"
      ]
     },
     "execution_count": 354,
     "metadata": {},
     "output_type": "execute_result"
    }
   ],
   "source": [
    "#Mean of Loans Number per day\n",
    "data_cmt.mean()"
   ]
  },
  {
   "cell_type": "markdown",
   "metadata": {},
   "source": [
    "### 3.2. Mode<a name=\"mode\"></a>"
   ]
  },
  {
   "cell_type": "code",
   "execution_count": 355,
   "metadata": {},
   "outputs": [
    {
     "data": {
      "text/plain": [
       "0    8\n",
       "dtype: int64"
      ]
     },
     "execution_count": 355,
     "metadata": {},
     "output_type": "execute_result"
    }
   ],
   "source": [
    "#Mode of Loans Number per day\n",
    "data_cmt.mode()"
   ]
  },
  {
   "cell_type": "markdown",
   "metadata": {},
   "source": [
    "Note that 0,it is a series index, this is here beacuse pandas mode method on series returns a series"
   ]
  },
  {
   "cell_type": "code",
   "execution_count": 356,
   "metadata": {},
   "outputs": [
    {
     "data": {
      "text/plain": [
       "8"
      ]
     },
     "execution_count": 356,
     "metadata": {},
     "output_type": "execute_result"
    }
   ],
   "source": [
    "#Access number like this\n",
    "data_cmt.mode()[0]"
   ]
  },
  {
   "cell_type": "markdown",
   "metadata": {},
   "source": [
    "Remember, mode is the most occuring value, not the frequency of it. So it's 8, not 35."
   ]
  },
  {
   "cell_type": "markdown",
   "metadata": {},
   "source": [
    "### 3.3. Median<a name=\"median\"></a>"
   ]
  },
  {
   "cell_type": "code",
   "execution_count": 357,
   "metadata": {},
   "outputs": [
    {
     "data": {
      "text/plain": [
       "6.0"
      ]
     },
     "execution_count": 357,
     "metadata": {},
     "output_type": "execute_result"
    }
   ],
   "source": [
    "#Median of Loans Number per day\n",
    "data_cmt.median()\n",
    "#Using a pandas series median method"
   ]
  },
  {
   "cell_type": "code",
   "execution_count": 361,
   "metadata": {},
   "outputs": [
    {
     "data": {
      "text/plain": [
       "6.0"
      ]
     },
     "execution_count": 361,
     "metadata": {},
     "output_type": "execute_result"
    }
   ],
   "source": [
    "#Second solution using numpy median function, getting values from the series as a np array and then calculating median value\n",
    "np.median(data_cmt.values)"
   ]
  },
  {
   "cell_type": "markdown",
   "metadata": {},
   "source": [
    "Note that this isn't the same as median of Loans number per day unique values."
   ]
  },
  {
   "cell_type": "code",
   "execution_count": 363,
   "metadata": {},
   "outputs": [
    {
     "data": {
      "text/plain": [
       "5.5"
      ]
     },
     "execution_count": 363,
     "metadata": {},
     "output_type": "execute_result"
    }
   ],
   "source": [
    "#I used numpy median function since unique returns a numpy array\n",
    "np.median(data_cmt.unique())"
   ]
  },
  {
   "cell_type": "markdown",
   "metadata": {},
   "source": [
    "This is because reccuring values must be taken into account when calculating median. Try to remember that."
   ]
  },
  {
   "cell_type": "markdown",
   "metadata": {},
   "source": [
    "### 3.4. Other Measures<a name=\"other\"></a>"
   ]
  },
  {
   "cell_type": "code",
   "execution_count": 365,
   "metadata": {},
   "outputs": [
    {
     "name": "stdout",
     "output_type": "stream",
     "text": [
      "Geometric mean:\n",
      "4.390131661416687\n",
      "Harmonic mean:\n",
      "3.2249144237868315\n",
      "Harmonic mean:\n",
      "5.4475524475524475\n"
     ]
    }
   ],
   "source": [
    "#Other measures (useful, but used only in specific situations), I used functions from stats module\n",
    "\n",
    "print(\"Geometric mean:\")\n",
    "print(stats.gmean(data_cmt))\n",
    "\n",
    "print(\"Harmonic mean:\")\n",
    "print(stats.hmean(data_cmt))\n",
    "\n",
    "print(\"Trimmed mean:\")\n",
    "print(stats.tmean(data_cmt))"
   ]
  },
  {
   "cell_type": "markdown",
   "metadata": {},
   "source": [
    "## 4. Graphical Views<a name=\"graph\"></a>\n",
    "--------------------------------------------------------"
   ]
  },
  {
   "cell_type": "markdown",
   "metadata": {},
   "source": [
    "### 4.1. Histogram<a name=\"hist\"></a>"
   ]
  },
  {
   "cell_type": "code",
   "execution_count": 438,
   "metadata": {},
   "outputs": [
    {
     "data": {
      "image/png": "[encoded data removed]",
      "text/plain": [
       "<Figure size 432x288 with 1 Axes>"
      ]
     },
     "metadata": {},
     "output_type": "display_data"
    }
   ],
   "source": [
    "#Using matplotlib - shown on iris sepal length variable\n",
    "plt.hist(dat, bins=num) # Earlier calculated number of bins\n",
    "plt.xlabel(\"Value in cm\")\n",
    "plt.ylabel(\"Count\")\n",
    "plt.title(\"Iris sepal length\")\n",
    "plt.xlim(min(dat), max(dat))\n",
    "plt.show()"
   ]
  },
  {
   "cell_type": "markdown",
   "metadata": {},
   "source": [
    "### 4.2. Bar Plot<a name=\"bar\"></a>"
   ]
  },
  {
   "cell_type": "code",
   "execution_count": 459,
   "metadata": {},
   "outputs": [
    {
     "data": {
      "image/png": "[encoded data removed]",
      "text/plain": [
       "<Figure size 432x288 with 1 Axes>"
      ]
     },
     "metadata": {},
     "output_type": "display_data"
    }
   ],
   "source": [
    "#Using matplotlib - shown on restaurant guests gender variable\n",
    "dat=data[\"Restaurant guests\"][\"Gender\"].value_counts()\n",
    "\n",
    "plt.barh(y=dat.index,width=dat.values)\n",
    "plt.title(\"Restaurant guests\")\n",
    "plt.xlabel(\"Count\")\n",
    "plt.ylabel(\"Gender\")\n",
    "plt.yticks(dat.index)\n",
    "plt.show()"
   ]
  },
  {
   "cell_type": "markdown",
   "metadata": {},
   "source": [
    "### 4.3. Frequency Polygon<a name=\"freqpol\"></a>"
   ]
  },
  {
   "cell_type": "code",
   "execution_count": 488,
   "metadata": {},
   "outputs": [
    {
     "data": {
      "image/png": "[encoded data removed]",
      "text/plain": [
       "<Figure size 432x288 with 1 Axes>"
      ]
     },
     "metadata": {},
     "output_type": "display_data"
    }
   ],
   "source": [
    "#Using matplotlib - shown on Frequency of Loans Number per day\n",
    "plt.plot(DF[\"Absolute_Freq.\"].index, DF[\"Absolute_Freq.\"].values)\n",
    "plt.scatter(DF[\"Absolute_Freq.\"].index, DF[\"Absolute_Freq.\"].values)\n",
    "plt.xticks(DF[\"Absolute_Freq.\"].index)\n",
    "plt.title('Frequency of Loans Number per day')\n",
    "plt.xlabel(\"Loans per day\")\n",
    "plt.ylabel(\"Frequency\")\n",
    "plt.show()"
   ]
  },
  {
   "cell_type": "markdown",
   "metadata": {},
   "source": [
    "### 4.4. Scatter Diagram<a name=\"scatter\"></a>"
   ]
  },
  {
   "cell_type": "code",
   "execution_count": 473,
   "metadata": {},
   "outputs": [
    {
     "data": {
      "image/png": "[encoded data removed]",
      "text/plain": [
       "<Figure size 432x288 with 1 Axes>"
      ]
     },
     "metadata": {},
     "output_type": "display_data"
    }
   ],
   "source": [
    "#Using matplotlib - shown on iris petal width and length variables\n",
    "plt.scatter(iris[\"sepal width (cm)\"], iris[\"sepal length (cm)\"], label=\"Sepal\",alpha=0.5)\n",
    "plt.xlabel(\"Width (cm)\")\n",
    "plt.ylabel(\"Length (cm)\")\n",
    "plt.legend(loc=\"upper right\")\n",
    "plt.show()"
   ]
  },
  {
   "cell_type": "markdown",
   "metadata": {},
   "source": [
    "### 4.5. Pie Plot<a name=\"pie\"></a>"
   ]
  },
  {
   "cell_type": "code",
   "execution_count": 461,
   "metadata": {},
   "outputs": [
    {
     "data": {
      "image/png": "[encoded data removed]",
      "text/plain": [
       "<Figure size 432x288 with 1 Axes>"
      ]
     },
     "metadata": {},
     "output_type": "display_data"
    }
   ],
   "source": [
    "#Using matplotlib - shown on restaurant guests gender variable\n",
    "dat=data[\"Restaurant guests\"][\"Gender\"].value_counts()\n",
    "\n",
    "slices=dat.values\n",
    "lab=dat.index\n",
    "cols = [\"blue\",\"red\"]\n",
    "\n",
    "plt.pie(slices,labels=lab,colors=cols,startangle=90,shadow= True,explode=(0,0.05),autopct='%1.2f%%')\n",
    "plt.title('Restaurant guests by gender')\n",
    "plt.show()"
   ]
  },
  {
   "cell_type": "markdown",
   "metadata": {},
   "source": [
    "### 4.6. Box & Whisker Plot<a name=\"box\"></a>"
   ]
  },
  {
   "cell_type": "code",
   "execution_count": 470,
   "metadata": {},
   "outputs": [
    {
     "data": {
      "image/png": "[encoded data removed]",
      "text/plain": [
       "<Figure size 432x288 with 1 Axes>"
      ]
     },
     "metadata": {},
     "output_type": "display_data"
    }
   ],
   "source": [
    "#Using matplotlib - shown on iris petal width variable\n",
    "plt.boxplot(iris[\"petal width (cm)\"])\n",
    "plt.title(\"Iris petal width (cm)\")\n",
    "plt.show()"
   ]
  },
  {
   "cell_type": "markdown",
   "metadata": {},
   "source": [
    "Note: Default whiskers are 1.5xIQR.    \n",
    "We can see that iris petal width variable has no outliers"
   ]
  },
  {
   "cell_type": "markdown",
   "metadata": {},
   "source": [
    "## 5. Exercises<a name=\"exercise\"></a>\n",
    "--------------------------------------------------------"
   ]
  },
  {
   "cell_type": "markdown",
   "metadata": {},
   "source": [
    "### 5.1. Exercise 1<a name=\"ex1\"></a>"
   ]
  },
  {
   "attachments": {},
   "cell_type": "markdown",
   "metadata": {},
   "source": [
    "In the given file „Data for Lab 1” in the sheet „Loans number” you have data about the number of given loans per day for one bank branch."
   ]
  },
  {
   "cell_type": "code",
   "execution_count": 490,
   "metadata": {},
   "outputs": [
    {
     "data": {
      "text/html": [
       "<div>\n",
       "<style scoped>\n",
       "    .dataframe tbody tr th:only-of-type {\n",
       "        vertical-align: middle;\n",
       "    }\n",
       "\n",
       "    .dataframe tbody tr th {\n",
       "        vertical-align: top;\n",
       "    }\n",
       "\n",
       "    .dataframe thead th {\n",
       "        text-align: right;\n",
       "    }\n",
       "</style>\n",
       "<table border=\"1\" class=\"dataframe\">\n",
       "  <thead>\n",
       "    <tr style=\"text-align: right;\">\n",
       "      <th></th>\n",
       "      <th>Loans number per day Branch 1</th>\n",
       "    </tr>\n",
       "  </thead>\n",
       "  <tbody>\n",
       "    <tr>\n",
       "      <th>0</th>\n",
       "      <td>4</td>\n",
       "    </tr>\n",
       "    <tr>\n",
       "      <th>1</th>\n",
       "      <td>7</td>\n",
       "    </tr>\n",
       "    <tr>\n",
       "      <th>2</th>\n",
       "      <td>1</td>\n",
       "    </tr>\n",
       "    <tr>\n",
       "      <th>3</th>\n",
       "      <td>9</td>\n",
       "    </tr>\n",
       "    <tr>\n",
       "      <th>4</th>\n",
       "      <td>1</td>\n",
       "    </tr>\n",
       "    <tr>\n",
       "      <th>...</th>\n",
       "      <td>...</td>\n",
       "    </tr>\n",
       "    <tr>\n",
       "      <th>281</th>\n",
       "      <td>2</td>\n",
       "    </tr>\n",
       "    <tr>\n",
       "      <th>282</th>\n",
       "      <td>5</td>\n",
       "    </tr>\n",
       "    <tr>\n",
       "      <th>283</th>\n",
       "      <td>8</td>\n",
       "    </tr>\n",
       "    <tr>\n",
       "      <th>284</th>\n",
       "      <td>3</td>\n",
       "    </tr>\n",
       "    <tr>\n",
       "      <th>285</th>\n",
       "      <td>9</td>\n",
       "    </tr>\n",
       "  </tbody>\n",
       "</table>\n",
       "<p>286 rows × 1 columns</p>\n",
       "</div>"
      ],
      "text/plain": [
       "     Loans number per day Branch 1\n",
       "0                                4\n",
       "1                                7\n",
       "2                                1\n",
       "3                                9\n",
       "4                                1\n",
       "..                             ...\n",
       "281                              2\n",
       "282                              5\n",
       "283                              8\n",
       "284                              3\n",
       "285                              9\n",
       "\n",
       "[286 rows x 1 columns]"
      ]
     },
     "execution_count": 490,
     "metadata": {},
     "output_type": "execute_result"
    }
   ],
   "source": [
    "data[\"Loans Number\"]"
   ]
  },
  {
   "cell_type": "markdown",
   "metadata": {},
   "source": [
    "Using that data draw the table with frequency distribution."
   ]
  },
  {
   "cell_type": "code",
   "execution_count": 493,
   "metadata": {},
   "outputs": [
    {
     "data": {
      "text/html": [
       "<div>\n",
       "<style scoped>\n",
       "    .dataframe tbody tr th:only-of-type {\n",
       "        vertical-align: middle;\n",
       "    }\n",
       "\n",
       "    .dataframe tbody tr th {\n",
       "        vertical-align: top;\n",
       "    }\n",
       "\n",
       "    .dataframe thead th {\n",
       "        text-align: right;\n",
       "    }\n",
       "</style>\n",
       "<table border=\"1\" class=\"dataframe\">\n",
       "  <thead>\n",
       "    <tr style=\"text-align: right;\">\n",
       "      <th></th>\n",
       "      <th>Absolute_Freq.</th>\n",
       "    </tr>\n",
       "  </thead>\n",
       "  <tbody>\n",
       "    <tr>\n",
       "      <th>1</th>\n",
       "      <td>34</td>\n",
       "    </tr>\n",
       "    <tr>\n",
       "      <th>2</th>\n",
       "      <td>34</td>\n",
       "    </tr>\n",
       "    <tr>\n",
       "      <th>3</th>\n",
       "      <td>25</td>\n",
       "    </tr>\n",
       "    <tr>\n",
       "      <th>4</th>\n",
       "      <td>24</td>\n",
       "    </tr>\n",
       "    <tr>\n",
       "      <th>5</th>\n",
       "      <td>23</td>\n",
       "    </tr>\n",
       "    <tr>\n",
       "      <th>6</th>\n",
       "      <td>25</td>\n",
       "    </tr>\n",
       "    <tr>\n",
       "      <th>7</th>\n",
       "      <td>29</td>\n",
       "    </tr>\n",
       "    <tr>\n",
       "      <th>8</th>\n",
       "      <td>35</td>\n",
       "    </tr>\n",
       "    <tr>\n",
       "      <th>9</th>\n",
       "      <td>33</td>\n",
       "    </tr>\n",
       "    <tr>\n",
       "      <th>10</th>\n",
       "      <td>24</td>\n",
       "    </tr>\n",
       "  </tbody>\n",
       "</table>\n",
       "</div>"
      ],
      "text/plain": [
       "    Absolute_Freq.\n",
       "1               34\n",
       "2               34\n",
       "3               25\n",
       "4               24\n",
       "5               23\n",
       "6               25\n",
       "7               29\n",
       "8               35\n",
       "9               33\n",
       "10              24"
      ]
     },
     "execution_count": 493,
     "metadata": {},
     "output_type": "execute_result"
    }
   ],
   "source": [
    "DF=data['Loans Number'].apply(pd.value_counts).sort_index()\n",
    "DF.rename(columns={\"Loans number per day Branch 1\": \"Absolute_Freq.\"},inplace=True)\n",
    "DF"
   ]
  },
  {
   "cell_type": "markdown",
   "metadata": {},
   "source": [
    "After you draw that data calculate relative frequencies as a proportion.\n",
    "\n",
    "Calculate relative frequencies as a percentage.\n",
    "\n",
    "Calculate cumulative sequences for realtive and absolute frequencies.\n"
   ]
  },
  {
   "cell_type": "code",
   "execution_count": 494,
   "metadata": {},
   "outputs": [
    {
     "data": {
      "text/html": [
       "<div>\n",
       "<style scoped>\n",
       "    .dataframe tbody tr th:only-of-type {\n",
       "        vertical-align: middle;\n",
       "    }\n",
       "\n",
       "    .dataframe tbody tr th {\n",
       "        vertical-align: top;\n",
       "    }\n",
       "\n",
       "    .dataframe thead th {\n",
       "        text-align: right;\n",
       "    }\n",
       "</style>\n",
       "<table border=\"1\" class=\"dataframe\">\n",
       "  <thead>\n",
       "    <tr style=\"text-align: right;\">\n",
       "      <th></th>\n",
       "      <th>Absolute_Freq.</th>\n",
       "      <th>Relative_Prop</th>\n",
       "      <th>Relative%</th>\n",
       "      <th>Cum_Relative_Prop</th>\n",
       "      <th>Cum_Relative%</th>\n",
       "    </tr>\n",
       "  </thead>\n",
       "  <tbody>\n",
       "    <tr>\n",
       "      <th>1</th>\n",
       "      <td>34</td>\n",
       "      <td>0.118881</td>\n",
       "      <td>11.888112</td>\n",
       "      <td>0.118881</td>\n",
       "      <td>11.888112</td>\n",
       "    </tr>\n",
       "    <tr>\n",
       "      <th>2</th>\n",
       "      <td>34</td>\n",
       "      <td>0.118881</td>\n",
       "      <td>11.888112</td>\n",
       "      <td>0.237762</td>\n",
       "      <td>23.776224</td>\n",
       "    </tr>\n",
       "    <tr>\n",
       "      <th>3</th>\n",
       "      <td>25</td>\n",
       "      <td>0.087413</td>\n",
       "      <td>8.741259</td>\n",
       "      <td>0.325175</td>\n",
       "      <td>32.517483</td>\n",
       "    </tr>\n",
       "    <tr>\n",
       "      <th>4</th>\n",
       "      <td>24</td>\n",
       "      <td>0.083916</td>\n",
       "      <td>8.391608</td>\n",
       "      <td>0.409091</td>\n",
       "      <td>40.909091</td>\n",
       "    </tr>\n",
       "    <tr>\n",
       "      <th>5</th>\n",
       "      <td>23</td>\n",
       "      <td>0.080420</td>\n",
       "      <td>8.041958</td>\n",
       "      <td>0.489510</td>\n",
       "      <td>48.951049</td>\n",
       "    </tr>\n",
       "    <tr>\n",
       "      <th>6</th>\n",
       "      <td>25</td>\n",
       "      <td>0.087413</td>\n",
       "      <td>8.741259</td>\n",
       "      <td>0.576923</td>\n",
       "      <td>57.692308</td>\n",
       "    </tr>\n",
       "    <tr>\n",
       "      <th>7</th>\n",
       "      <td>29</td>\n",
       "      <td>0.101399</td>\n",
       "      <td>10.139860</td>\n",
       "      <td>0.678322</td>\n",
       "      <td>67.832168</td>\n",
       "    </tr>\n",
       "    <tr>\n",
       "      <th>8</th>\n",
       "      <td>35</td>\n",
       "      <td>0.122378</td>\n",
       "      <td>12.237762</td>\n",
       "      <td>0.800699</td>\n",
       "      <td>80.069930</td>\n",
       "    </tr>\n",
       "    <tr>\n",
       "      <th>9</th>\n",
       "      <td>33</td>\n",
       "      <td>0.115385</td>\n",
       "      <td>11.538462</td>\n",
       "      <td>0.916084</td>\n",
       "      <td>91.608392</td>\n",
       "    </tr>\n",
       "    <tr>\n",
       "      <th>10</th>\n",
       "      <td>24</td>\n",
       "      <td>0.083916</td>\n",
       "      <td>8.391608</td>\n",
       "      <td>1.000000</td>\n",
       "      <td>100.000000</td>\n",
       "    </tr>\n",
       "  </tbody>\n",
       "</table>\n",
       "</div>"
      ],
      "text/plain": [
       "    Absolute_Freq.  Relative_Prop  Relative%  Cum_Relative_Prop  Cum_Relative%\n",
       "1               34       0.118881  11.888112           0.118881      11.888112\n",
       "2               34       0.118881  11.888112           0.237762      23.776224\n",
       "3               25       0.087413   8.741259           0.325175      32.517483\n",
       "4               24       0.083916   8.391608           0.409091      40.909091\n",
       "5               23       0.080420   8.041958           0.489510      48.951049\n",
       "6               25       0.087413   8.741259           0.576923      57.692308\n",
       "7               29       0.101399  10.139860           0.678322      67.832168\n",
       "8               35       0.122378  12.237762           0.800699      80.069930\n",
       "9               33       0.115385  11.538462           0.916084      91.608392\n",
       "10              24       0.083916   8.391608           1.000000     100.000000"
      ]
     },
     "execution_count": 494,
     "metadata": {},
     "output_type": "execute_result"
    }
   ],
   "source": [
    "DF[\"Relative_Prop\"]=DF/DF.sum()\n",
    "DF[\"Relative%\"]=DF[\"Relative_Prop\"]*100\n",
    "\n",
    "DF[\"Cum_Relative_Prop\"]=DF[\"Relative_Prop\"].cumsum()\n",
    "DF[\"Cum_Relative%\"]=DF[\"Relative%\"].cumsum()\n",
    "\n",
    "DF"
   ]
  },
  {
   "attachments": {},
   "cell_type": "markdown",
   "metadata": {},
   "source": [
    "Draw histogram of absolute frequencies."
   ]
  },
  {
   "cell_type": "code",
   "execution_count": 507,
   "metadata": {},
   "outputs": [
    {
     "data": {
      "image/png": "[encoded data removed]",
      "text/plain": [
       "<Figure size 432x288 with 1 Axes>"
      ]
     },
     "metadata": {},
     "output_type": "display_data"
    }
   ],
   "source": [
    "plt.hist(DF[\"Absolute_Freq.\"])\n",
    "plt.xlabel(\"Absolute Frequencies\")\n",
    "plt.ylabel(\"Count\")\n",
    "plt.title(\"Loans per day\")\n",
    "\n",
    "plt.show()"
   ]
  },
  {
   "cell_type": "code",
   "execution_count": 506,
   "metadata": {},
   "outputs": [
    {
     "data": {
      "text/plain": [
       "1     34\n",
       "2     34\n",
       "3     25\n",
       "4     24\n",
       "5     23\n",
       "6     25\n",
       "7     29\n",
       "8     35\n",
       "9     33\n",
       "10    24\n",
       "Name: Absolute_Freq., dtype: int64"
      ]
     },
     "execution_count": 506,
     "metadata": {},
     "output_type": "execute_result"
    }
   ],
   "source": [
    "DF[\"Absolute_Freq.\"]"
   ]
  },
  {
   "cell_type": "code",
   "execution_count": 499,
   "metadata": {},
   "outputs": [
    {
     "data": {
      "text/plain": [
       "array([34, 34, 25, 24, 23, 25, 29, 35, 33, 24], dtype=int64)"
      ]
     },
     "execution_count": 499,
     "metadata": {},
     "output_type": "execute_result"
    }
   ],
   "source": [
    "DF[\"Absolute_Freq.\"].values"
   ]
  },
  {
   "cell_type": "code",
   "execution_count": null,
   "metadata": {},
   "outputs": [],
   "source": []
  }
 ],
 "metadata": {
  "kernelspec": {
   "display_name": "Python 3",
   "language": "python",
   "name": "python3"
  },
  "language_info": {
   "codemirror_mode": {
    "name": "ipython",
    "version": 3
   },
   "file_extension": ".py",
   "mimetype": "text/x-python",
   "name": "python",
   "nbconvert_exporter": "python",
   "pygments_lexer": "ipython3",
   "version": "3.7.7"
  }
 },
 "nbformat": 4,
 "nbformat_minor": 4
}
